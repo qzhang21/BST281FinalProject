{
 "cells": [
  {
   "cell_type": "markdown",
   "metadata": {
    "id": "mMB7lPd9vXap"
   },
   "source": [
    "# Load Data"
   ]
  },
  {
   "cell_type": "code",
   "execution_count": null,
   "metadata": {
    "id": "D5vdWszY18sp"
   },
   "outputs": [],
   "source": [
    "import matplotlib.pyplot as plt\n",
    "import numpy as np\n",
    "import pandas as pd\n",
    "import seaborn as sns"
   ]
  },
  {
   "cell_type": "code",
   "execution_count": null,
   "metadata": {
    "colab": {
     "base_uri": "https://localhost:8080/"
    },
    "id": "yhRfZPv7vYy4",
    "outputId": "e6849163-4710-45c3-b332-9231f3a8320d"
   },
   "outputs": [
    {
     "name": "stdout",
     "output_type": "stream",
     "text": [
      "Mounted at /content/gdrive\n"
     ]
    }
   ],
   "source": [
    "from google.colab import drive\n",
    "drive.mount('/content/gdrive')"
   ]
  },
  {
   "cell_type": "code",
   "execution_count": null,
   "metadata": {
    "id": "wIqX2jmYvcV9"
   },
   "outputs": [],
   "source": [
    "#data = pd.read_csv(\"gdrive/MyDrive/BST281_FinalProject/preprocessing/normalized_data.tsv\", sep='\\t', index_col=0)\n",
    "PC_data = pd.read_csv(\"gdrive/MyDrive/BST281_FinalProject/preprocessing/normalized_data_PC3.tsv\", sep='\\t', index_col=0)\n",
    "DU_data = pd.read_csv(\"gdrive/MyDrive/BST281_FinalProject/preprocessing/normalized_data_DU145.tsv\", sep='\\t', index_col=0)"
   ]
  },
  {
   "cell_type": "code",
   "execution_count": null,
   "metadata": {
    "colab": {
     "base_uri": "https://localhost:8080/"
    },
    "id": "Mljjyvop61WE",
    "outputId": "da59520c-14df-49ba-e246-ddfdf0e54d34"
   },
   "outputs": [
    {
     "data": {
      "text/html": [
       "\n",
       "  <div id=\"df-f449432e-d731-4e37-99b5-2a141128d7c4\">\n",
       "    <div class=\"colab-df-container\">\n",
       "      <div>\n",
       "<style scoped>\n",
       "    .dataframe tbody tr th:only-of-type {\n",
       "        vertical-align: middle;\n",
       "    }\n",
       "\n",
       "    .dataframe tbody tr th {\n",
       "        vertical-align: top;\n",
       "    }\n",
       "\n",
       "    .dataframe thead th {\n",
       "        text-align: right;\n",
       "    }\n",
       "</style>\n",
       "<table border=\"1\" class=\"dataframe\">\n",
       "  <thead>\n",
       "    <tr style=\"text-align: right;\">\n",
       "      <th></th>\n",
       "      <th>og_df_idx</th>\n",
       "      <th>sample</th>\n",
       "      <th>cell_line</th>\n",
       "      <th>response</th>\n",
       "      <th>ID</th>\n",
       "      <th>CD9</th>\n",
       "      <th>SYPL1</th>\n",
       "      <th>NME1</th>\n",
       "      <th>PSMA4</th>\n",
       "      <th>ASNS</th>\n",
       "      <th>...</th>\n",
       "      <th>HSBP1</th>\n",
       "      <th>MSMP</th>\n",
       "      <th>AC010970.2</th>\n",
       "      <th>TMX1</th>\n",
       "      <th>EIF1</th>\n",
       "      <th>NEAT1</th>\n",
       "      <th>CXCL2</th>\n",
       "      <th>MTATP6P1</th>\n",
       "      <th>MAL2</th>\n",
       "      <th>B2M</th>\n",
       "    </tr>\n",
       "  </thead>\n",
       "  <tbody>\n",
       "    <tr>\n",
       "      <th>0</th>\n",
       "      <td>0</td>\n",
       "      <td>GSM4161769</td>\n",
       "      <td>PC3</td>\n",
       "      <td>Res</td>\n",
       "      <td>84</td>\n",
       "      <td>-0.517198</td>\n",
       "      <td>-0.632057</td>\n",
       "      <td>-1.189322</td>\n",
       "      <td>-0.647247</td>\n",
       "      <td>-1.472626</td>\n",
       "      <td>...</td>\n",
       "      <td>0.461659</td>\n",
       "      <td>-1.179807</td>\n",
       "      <td>0.907275</td>\n",
       "      <td>-0.622409</td>\n",
       "      <td>0.512588</td>\n",
       "      <td>1.659146</td>\n",
       "      <td>-0.462996</td>\n",
       "      <td>0.883241</td>\n",
       "      <td>0.042648</td>\n",
       "      <td>0.888186</td>\n",
       "    </tr>\n",
       "    <tr>\n",
       "      <th>1</th>\n",
       "      <td>2</td>\n",
       "      <td>GSM4161715</td>\n",
       "      <td>PC3</td>\n",
       "      <td>Res</td>\n",
       "      <td>30</td>\n",
       "      <td>0.855890</td>\n",
       "      <td>0.796209</td>\n",
       "      <td>-0.246952</td>\n",
       "      <td>0.683444</td>\n",
       "      <td>1.172218</td>\n",
       "      <td>...</td>\n",
       "      <td>0.801054</td>\n",
       "      <td>0.910677</td>\n",
       "      <td>0.015436</td>\n",
       "      <td>0.700068</td>\n",
       "      <td>1.099030</td>\n",
       "      <td>0.430106</td>\n",
       "      <td>0.010919</td>\n",
       "      <td>1.010342</td>\n",
       "      <td>0.570048</td>\n",
       "      <td>0.790960</td>\n",
       "    </tr>\n",
       "    <tr>\n",
       "      <th>2</th>\n",
       "      <td>4</td>\n",
       "      <td>GSM4161745</td>\n",
       "      <td>PC3</td>\n",
       "      <td>Res</td>\n",
       "      <td>60</td>\n",
       "      <td>1.232866</td>\n",
       "      <td>0.523105</td>\n",
       "      <td>0.267647</td>\n",
       "      <td>-0.082364</td>\n",
       "      <td>-1.311988</td>\n",
       "      <td>...</td>\n",
       "      <td>1.321535</td>\n",
       "      <td>0.834046</td>\n",
       "      <td>-0.269744</td>\n",
       "      <td>0.238691</td>\n",
       "      <td>0.897919</td>\n",
       "      <td>0.096618</td>\n",
       "      <td>-0.462996</td>\n",
       "      <td>0.030137</td>\n",
       "      <td>1.124056</td>\n",
       "      <td>1.532183</td>\n",
       "    </tr>\n",
       "    <tr>\n",
       "      <th>3</th>\n",
       "      <td>7</td>\n",
       "      <td>GSM4161616</td>\n",
       "      <td>PC3</td>\n",
       "      <td>Sen</td>\n",
       "      <td>21</td>\n",
       "      <td>-1.602350</td>\n",
       "      <td>-3.108739</td>\n",
       "      <td>1.229018</td>\n",
       "      <td>0.841351</td>\n",
       "      <td>-1.747239</td>\n",
       "      <td>...</td>\n",
       "      <td>-0.970160</td>\n",
       "      <td>-0.221637</td>\n",
       "      <td>1.559325</td>\n",
       "      <td>-1.981431</td>\n",
       "      <td>0.278917</td>\n",
       "      <td>0.970147</td>\n",
       "      <td>-0.462996</td>\n",
       "      <td>1.675328</td>\n",
       "      <td>0.470497</td>\n",
       "      <td>-0.775891</td>\n",
       "    </tr>\n",
       "    <tr>\n",
       "      <th>4</th>\n",
       "      <td>8</td>\n",
       "      <td>GSM4161684</td>\n",
       "      <td>PC3</td>\n",
       "      <td>Sen</td>\n",
       "      <td>89</td>\n",
       "      <td>-3.162352</td>\n",
       "      <td>0.178384</td>\n",
       "      <td>0.875522</td>\n",
       "      <td>0.379513</td>\n",
       "      <td>-1.747239</td>\n",
       "      <td>...</td>\n",
       "      <td>-0.113371</td>\n",
       "      <td>0.042360</td>\n",
       "      <td>1.375198</td>\n",
       "      <td>-0.473401</td>\n",
       "      <td>0.819504</td>\n",
       "      <td>0.344814</td>\n",
       "      <td>-0.462996</td>\n",
       "      <td>0.132832</td>\n",
       "      <td>-0.400630</td>\n",
       "      <td>0.254669</td>\n",
       "    </tr>\n",
       "    <tr>\n",
       "      <th>...</th>\n",
       "      <td>...</td>\n",
       "      <td>...</td>\n",
       "      <td>...</td>\n",
       "      <td>...</td>\n",
       "      <td>...</td>\n",
       "      <td>...</td>\n",
       "      <td>...</td>\n",
       "      <td>...</td>\n",
       "      <td>...</td>\n",
       "      <td>...</td>\n",
       "      <td>...</td>\n",
       "      <td>...</td>\n",
       "      <td>...</td>\n",
       "      <td>...</td>\n",
       "      <td>...</td>\n",
       "      <td>...</td>\n",
       "      <td>...</td>\n",
       "      <td>...</td>\n",
       "      <td>...</td>\n",
       "      <td>...</td>\n",
       "      <td>...</td>\n",
       "    </tr>\n",
       "    <tr>\n",
       "      <th>175</th>\n",
       "      <td>311</td>\n",
       "      <td>GSM4161716</td>\n",
       "      <td>PC3</td>\n",
       "      <td>Res</td>\n",
       "      <td>31</td>\n",
       "      <td>0.226589</td>\n",
       "      <td>0.135960</td>\n",
       "      <td>-0.206338</td>\n",
       "      <td>-0.009528</td>\n",
       "      <td>0.721169</td>\n",
       "      <td>...</td>\n",
       "      <td>0.685976</td>\n",
       "      <td>-0.692205</td>\n",
       "      <td>-0.368846</td>\n",
       "      <td>0.823014</td>\n",
       "      <td>0.265476</td>\n",
       "      <td>-0.633720</td>\n",
       "      <td>-0.462996</td>\n",
       "      <td>0.277005</td>\n",
       "      <td>0.295363</td>\n",
       "      <td>0.237641</td>\n",
       "    </tr>\n",
       "    <tr>\n",
       "      <th>176</th>\n",
       "      <td>312</td>\n",
       "      <td>GSM4161677</td>\n",
       "      <td>PC3</td>\n",
       "      <td>Sen</td>\n",
       "      <td>82</td>\n",
       "      <td>0.275764</td>\n",
       "      <td>0.808447</td>\n",
       "      <td>0.506564</td>\n",
       "      <td>0.764273</td>\n",
       "      <td>0.318827</td>\n",
       "      <td>...</td>\n",
       "      <td>0.093772</td>\n",
       "      <td>0.290109</td>\n",
       "      <td>-0.365841</td>\n",
       "      <td>0.738206</td>\n",
       "      <td>-0.269705</td>\n",
       "      <td>0.433474</td>\n",
       "      <td>-0.462996</td>\n",
       "      <td>-0.402479</td>\n",
       "      <td>0.004855</td>\n",
       "      <td>0.589398</td>\n",
       "    </tr>\n",
       "    <tr>\n",
       "      <th>177</th>\n",
       "      <td>315</td>\n",
       "      <td>GSM4161623</td>\n",
       "      <td>PC3</td>\n",
       "      <td>Sen</td>\n",
       "      <td>28</td>\n",
       "      <td>0.201476</td>\n",
       "      <td>0.098980</td>\n",
       "      <td>1.166131</td>\n",
       "      <td>0.417734</td>\n",
       "      <td>0.621491</td>\n",
       "      <td>...</td>\n",
       "      <td>-0.005680</td>\n",
       "      <td>-1.082856</td>\n",
       "      <td>0.788537</td>\n",
       "      <td>-0.063801</td>\n",
       "      <td>-0.513255</td>\n",
       "      <td>1.146777</td>\n",
       "      <td>-0.462996</td>\n",
       "      <td>-0.402479</td>\n",
       "      <td>-0.629075</td>\n",
       "      <td>0.209393</td>\n",
       "    </tr>\n",
       "    <tr>\n",
       "      <th>178</th>\n",
       "      <td>318</td>\n",
       "      <td>GSM4161687</td>\n",
       "      <td>PC3</td>\n",
       "      <td>Res</td>\n",
       "      <td>2</td>\n",
       "      <td>0.633939</td>\n",
       "      <td>-0.325539</td>\n",
       "      <td>-0.596326</td>\n",
       "      <td>0.245939</td>\n",
       "      <td>1.092216</td>\n",
       "      <td>...</td>\n",
       "      <td>0.628617</td>\n",
       "      <td>0.426614</td>\n",
       "      <td>-0.432058</td>\n",
       "      <td>0.449815</td>\n",
       "      <td>0.236087</td>\n",
       "      <td>-1.953418</td>\n",
       "      <td>0.484835</td>\n",
       "      <td>-0.206074</td>\n",
       "      <td>0.200745</td>\n",
       "      <td>0.127934</td>\n",
       "    </tr>\n",
       "    <tr>\n",
       "      <th>179</th>\n",
       "      <td>320</td>\n",
       "      <td>GSM4161761</td>\n",
       "      <td>PC3</td>\n",
       "      <td>Res</td>\n",
       "      <td>76</td>\n",
       "      <td>0.778357</td>\n",
       "      <td>0.037901</td>\n",
       "      <td>0.127676</td>\n",
       "      <td>0.319626</td>\n",
       "      <td>0.941092</td>\n",
       "      <td>...</td>\n",
       "      <td>0.607905</td>\n",
       "      <td>0.201563</td>\n",
       "      <td>-0.030488</td>\n",
       "      <td>0.363703</td>\n",
       "      <td>0.955417</td>\n",
       "      <td>0.615826</td>\n",
       "      <td>-0.462996</td>\n",
       "      <td>0.100090</td>\n",
       "      <td>0.350079</td>\n",
       "      <td>0.519235</td>\n",
       "    </tr>\n",
       "  </tbody>\n",
       "</table>\n",
       "<p>180 rows × 307 columns</p>\n",
       "</div>\n",
       "      <button class=\"colab-df-convert\" onclick=\"convertToInteractive('df-f449432e-d731-4e37-99b5-2a141128d7c4')\"\n",
       "              title=\"Convert this dataframe to an interactive table.\"\n",
       "              style=\"display:none;\">\n",
       "        \n",
       "  <svg xmlns=\"http://www.w3.org/2000/svg\" height=\"24px\"viewBox=\"0 0 24 24\"\n",
       "       width=\"24px\">\n",
       "    <path d=\"M0 0h24v24H0V0z\" fill=\"none\"/>\n",
       "    <path d=\"M18.56 5.44l.94 2.06.94-2.06 2.06-.94-2.06-.94-.94-2.06-.94 2.06-2.06.94zm-11 1L8.5 8.5l.94-2.06 2.06-.94-2.06-.94L8.5 2.5l-.94 2.06-2.06.94zm10 10l.94 2.06.94-2.06 2.06-.94-2.06-.94-.94-2.06-.94 2.06-2.06.94z\"/><path d=\"M17.41 7.96l-1.37-1.37c-.4-.4-.92-.59-1.43-.59-.52 0-1.04.2-1.43.59L10.3 9.45l-7.72 7.72c-.78.78-.78 2.05 0 2.83L4 21.41c.39.39.9.59 1.41.59.51 0 1.02-.2 1.41-.59l7.78-7.78 2.81-2.81c.8-.78.8-2.07 0-2.86zM5.41 20L4 18.59l7.72-7.72 1.47 1.35L5.41 20z\"/>\n",
       "  </svg>\n",
       "      </button>\n",
       "      \n",
       "  <style>\n",
       "    .colab-df-container {\n",
       "      display:flex;\n",
       "      flex-wrap:wrap;\n",
       "      gap: 12px;\n",
       "    }\n",
       "\n",
       "    .colab-df-convert {\n",
       "      background-color: #E8F0FE;\n",
       "      border: none;\n",
       "      border-radius: 50%;\n",
       "      cursor: pointer;\n",
       "      display: none;\n",
       "      fill: #1967D2;\n",
       "      height: 32px;\n",
       "      padding: 0 0 0 0;\n",
       "      width: 32px;\n",
       "    }\n",
       "\n",
       "    .colab-df-convert:hover {\n",
       "      background-color: #E2EBFA;\n",
       "      box-shadow: 0px 1px 2px rgba(60, 64, 67, 0.3), 0px 1px 3px 1px rgba(60, 64, 67, 0.15);\n",
       "      fill: #174EA6;\n",
       "    }\n",
       "\n",
       "    [theme=dark] .colab-df-convert {\n",
       "      background-color: #3B4455;\n",
       "      fill: #D2E3FC;\n",
       "    }\n",
       "\n",
       "    [theme=dark] .colab-df-convert:hover {\n",
       "      background-color: #434B5C;\n",
       "      box-shadow: 0px 1px 3px 1px rgba(0, 0, 0, 0.15);\n",
       "      filter: drop-shadow(0px 1px 2px rgba(0, 0, 0, 0.3));\n",
       "      fill: #FFFFFF;\n",
       "    }\n",
       "  </style>\n",
       "\n",
       "      <script>\n",
       "        const buttonEl =\n",
       "          document.querySelector('#df-f449432e-d731-4e37-99b5-2a141128d7c4 button.colab-df-convert');\n",
       "        buttonEl.style.display =\n",
       "          google.colab.kernel.accessAllowed ? 'block' : 'none';\n",
       "\n",
       "        async function convertToInteractive(key) {\n",
       "          const element = document.querySelector('#df-f449432e-d731-4e37-99b5-2a141128d7c4');\n",
       "          const dataTable =\n",
       "            await google.colab.kernel.invokeFunction('convertToInteractive',\n",
       "                                                     [key], {});\n",
       "          if (!dataTable) return;\n",
       "\n",
       "          const docLinkHtml = 'Like what you see? Visit the ' +\n",
       "            '<a target=\"_blank\" href=https://colab.research.google.com/notebooks/data_table.ipynb>data table notebook</a>'\n",
       "            + ' to learn more about interactive tables.';\n",
       "          element.innerHTML = '';\n",
       "          dataTable['output_type'] = 'display_data';\n",
       "          await google.colab.output.renderOutput(dataTable, element);\n",
       "          const docLink = document.createElement('div');\n",
       "          docLink.innerHTML = docLinkHtml;\n",
       "          element.appendChild(docLink);\n",
       "        }\n",
       "      </script>\n",
       "    </div>\n",
       "  </div>\n",
       "  "
      ],
      "text/plain": [
       "     og_df_idx      sample cell_line response  ID       CD9     SYPL1  \\\n",
       "0            0  GSM4161769       PC3      Res  84 -0.517198 -0.632057   \n",
       "1            2  GSM4161715       PC3      Res  30  0.855890  0.796209   \n",
       "2            4  GSM4161745       PC3      Res  60  1.232866  0.523105   \n",
       "3            7  GSM4161616       PC3      Sen  21 -1.602350 -3.108739   \n",
       "4            8  GSM4161684       PC3      Sen  89 -3.162352  0.178384   \n",
       "..         ...         ...       ...      ...  ..       ...       ...   \n",
       "175        311  GSM4161716       PC3      Res  31  0.226589  0.135960   \n",
       "176        312  GSM4161677       PC3      Sen  82  0.275764  0.808447   \n",
       "177        315  GSM4161623       PC3      Sen  28  0.201476  0.098980   \n",
       "178        318  GSM4161687       PC3      Res   2  0.633939 -0.325539   \n",
       "179        320  GSM4161761       PC3      Res  76  0.778357  0.037901   \n",
       "\n",
       "         NME1     PSMA4      ASNS  ...     HSBP1      MSMP  AC010970.2  \\\n",
       "0   -1.189322 -0.647247 -1.472626  ...  0.461659 -1.179807    0.907275   \n",
       "1   -0.246952  0.683444  1.172218  ...  0.801054  0.910677    0.015436   \n",
       "2    0.267647 -0.082364 -1.311988  ...  1.321535  0.834046   -0.269744   \n",
       "3    1.229018  0.841351 -1.747239  ... -0.970160 -0.221637    1.559325   \n",
       "4    0.875522  0.379513 -1.747239  ... -0.113371  0.042360    1.375198   \n",
       "..        ...       ...       ...  ...       ...       ...         ...   \n",
       "175 -0.206338 -0.009528  0.721169  ...  0.685976 -0.692205   -0.368846   \n",
       "176  0.506564  0.764273  0.318827  ...  0.093772  0.290109   -0.365841   \n",
       "177  1.166131  0.417734  0.621491  ... -0.005680 -1.082856    0.788537   \n",
       "178 -0.596326  0.245939  1.092216  ...  0.628617  0.426614   -0.432058   \n",
       "179  0.127676  0.319626  0.941092  ...  0.607905  0.201563   -0.030488   \n",
       "\n",
       "         TMX1      EIF1     NEAT1     CXCL2  MTATP6P1      MAL2       B2M  \n",
       "0   -0.622409  0.512588  1.659146 -0.462996  0.883241  0.042648  0.888186  \n",
       "1    0.700068  1.099030  0.430106  0.010919  1.010342  0.570048  0.790960  \n",
       "2    0.238691  0.897919  0.096618 -0.462996  0.030137  1.124056  1.532183  \n",
       "3   -1.981431  0.278917  0.970147 -0.462996  1.675328  0.470497 -0.775891  \n",
       "4   -0.473401  0.819504  0.344814 -0.462996  0.132832 -0.400630  0.254669  \n",
       "..        ...       ...       ...       ...       ...       ...       ...  \n",
       "175  0.823014  0.265476 -0.633720 -0.462996  0.277005  0.295363  0.237641  \n",
       "176  0.738206 -0.269705  0.433474 -0.462996 -0.402479  0.004855  0.589398  \n",
       "177 -0.063801 -0.513255  1.146777 -0.462996 -0.402479 -0.629075  0.209393  \n",
       "178  0.449815  0.236087 -1.953418  0.484835 -0.206074  0.200745  0.127934  \n",
       "179  0.363703  0.955417  0.615826 -0.462996  0.100090  0.350079  0.519235  \n",
       "\n",
       "[180 rows x 307 columns]"
      ]
     },
     "execution_count": 4,
     "metadata": {},
     "output_type": "execute_result"
    }
   ],
   "source": [
    "PC_data"
   ]
  },
  {
   "cell_type": "code",
   "execution_count": null,
   "metadata": {
    "colab": {
     "base_uri": "https://localhost:8080/"
    },
    "id": "zEh5576smisn",
    "outputId": "53bd05ad-b2b2-45eb-94d3-b58102d9b65a"
   },
   "outputs": [
    {
     "data": {
      "text/html": [
       "\n",
       "  <div id=\"df-fa9150ad-2315-4142-9ac3-f674e1cf4347\">\n",
       "    <div class=\"colab-df-container\">\n",
       "      <div>\n",
       "<style scoped>\n",
       "    .dataframe tbody tr th:only-of-type {\n",
       "        vertical-align: middle;\n",
       "    }\n",
       "\n",
       "    .dataframe tbody tr th {\n",
       "        vertical-align: top;\n",
       "    }\n",
       "\n",
       "    .dataframe thead th {\n",
       "        text-align: right;\n",
       "    }\n",
       "</style>\n",
       "<table border=\"1\" class=\"dataframe\">\n",
       "  <thead>\n",
       "    <tr style=\"text-align: right;\">\n",
       "      <th></th>\n",
       "      <th>og_df_idx</th>\n",
       "      <th>sample</th>\n",
       "      <th>cell_line</th>\n",
       "      <th>response</th>\n",
       "      <th>ID</th>\n",
       "      <th>CYP51A1</th>\n",
       "      <th>MGST1</th>\n",
       "      <th>VDAC3</th>\n",
       "      <th>STRAP</th>\n",
       "      <th>PSMA4</th>\n",
       "      <th>...</th>\n",
       "      <th>LAPTM4B</th>\n",
       "      <th>TMX1</th>\n",
       "      <th>ADAM9</th>\n",
       "      <th>EIF1</th>\n",
       "      <th>NCEH1</th>\n",
       "      <th>NEAT1</th>\n",
       "      <th>SNHG1</th>\n",
       "      <th>B2M</th>\n",
       "      <th>OAZ1</th>\n",
       "      <th>PSMB3</th>\n",
       "    </tr>\n",
       "  </thead>\n",
       "  <tbody>\n",
       "    <tr>\n",
       "      <th>0</th>\n",
       "      <td>1</td>\n",
       "      <td>GSM4161578</td>\n",
       "      <td>DU145</td>\n",
       "      <td>Res</td>\n",
       "      <td>55</td>\n",
       "      <td>1.095660</td>\n",
       "      <td>0.962989</td>\n",
       "      <td>-0.390678</td>\n",
       "      <td>-0.020920</td>\n",
       "      <td>0.542339</td>\n",
       "      <td>...</td>\n",
       "      <td>0.445006</td>\n",
       "      <td>0.167306</td>\n",
       "      <td>0.436825</td>\n",
       "      <td>0.657008</td>\n",
       "      <td>0.465230</td>\n",
       "      <td>0.749750</td>\n",
       "      <td>-0.346104</td>\n",
       "      <td>0.949318</td>\n",
       "      <td>0.188539</td>\n",
       "      <td>0.288163</td>\n",
       "    </tr>\n",
       "    <tr>\n",
       "      <th>1</th>\n",
       "      <td>3</td>\n",
       "      <td>GSM4161499</td>\n",
       "      <td>DU145</td>\n",
       "      <td>Sen</td>\n",
       "      <td>48</td>\n",
       "      <td>-1.367556</td>\n",
       "      <td>-1.892345</td>\n",
       "      <td>-3.802103</td>\n",
       "      <td>-1.391733</td>\n",
       "      <td>-2.446313</td>\n",
       "      <td>...</td>\n",
       "      <td>-2.624757</td>\n",
       "      <td>-1.986447</td>\n",
       "      <td>-3.263612</td>\n",
       "      <td>-1.208059</td>\n",
       "      <td>-1.360966</td>\n",
       "      <td>-2.241855</td>\n",
       "      <td>0.431866</td>\n",
       "      <td>-0.979595</td>\n",
       "      <td>-2.047853</td>\n",
       "      <td>-2.927521</td>\n",
       "    </tr>\n",
       "    <tr>\n",
       "      <th>2</th>\n",
       "      <td>5</td>\n",
       "      <td>GSM4161557</td>\n",
       "      <td>DU145</td>\n",
       "      <td>Res</td>\n",
       "      <td>34</td>\n",
       "      <td>1.026333</td>\n",
       "      <td>0.476668</td>\n",
       "      <td>0.146564</td>\n",
       "      <td>-0.010736</td>\n",
       "      <td>0.473771</td>\n",
       "      <td>...</td>\n",
       "      <td>0.028082</td>\n",
       "      <td>0.607048</td>\n",
       "      <td>0.557547</td>\n",
       "      <td>0.249777</td>\n",
       "      <td>-0.030007</td>\n",
       "      <td>-0.160165</td>\n",
       "      <td>-3.308772</td>\n",
       "      <td>0.388580</td>\n",
       "      <td>0.718945</td>\n",
       "      <td>0.431462</td>\n",
       "    </tr>\n",
       "    <tr>\n",
       "      <th>3</th>\n",
       "      <td>6</td>\n",
       "      <td>GSM4161538</td>\n",
       "      <td>DU145</td>\n",
       "      <td>Res</td>\n",
       "      <td>15</td>\n",
       "      <td>0.928410</td>\n",
       "      <td>0.566203</td>\n",
       "      <td>0.109865</td>\n",
       "      <td>0.075118</td>\n",
       "      <td>0.471016</td>\n",
       "      <td>...</td>\n",
       "      <td>0.127551</td>\n",
       "      <td>-0.229411</td>\n",
       "      <td>0.458631</td>\n",
       "      <td>0.183447</td>\n",
       "      <td>0.086968</td>\n",
       "      <td>-0.330964</td>\n",
       "      <td>-0.207033</td>\n",
       "      <td>0.531295</td>\n",
       "      <td>-0.057859</td>\n",
       "      <td>0.220060</td>\n",
       "    </tr>\n",
       "    <tr>\n",
       "      <th>4</th>\n",
       "      <td>9</td>\n",
       "      <td>GSM4161457</td>\n",
       "      <td>DU145</td>\n",
       "      <td>Sen</td>\n",
       "      <td>6</td>\n",
       "      <td>-1.922705</td>\n",
       "      <td>-1.395724</td>\n",
       "      <td>-1.178172</td>\n",
       "      <td>-0.656984</td>\n",
       "      <td>-1.180434</td>\n",
       "      <td>...</td>\n",
       "      <td>-1.243050</td>\n",
       "      <td>-1.259246</td>\n",
       "      <td>-1.685750</td>\n",
       "      <td>-1.623156</td>\n",
       "      <td>-0.972156</td>\n",
       "      <td>-1.164160</td>\n",
       "      <td>-0.983181</td>\n",
       "      <td>-2.002477</td>\n",
       "      <td>-2.040096</td>\n",
       "      <td>-1.258305</td>\n",
       "    </tr>\n",
       "    <tr>\n",
       "      <th>...</th>\n",
       "      <td>...</td>\n",
       "      <td>...</td>\n",
       "      <td>...</td>\n",
       "      <td>...</td>\n",
       "      <td>...</td>\n",
       "      <td>...</td>\n",
       "      <td>...</td>\n",
       "      <td>...</td>\n",
       "      <td>...</td>\n",
       "      <td>...</td>\n",
       "      <td>...</td>\n",
       "      <td>...</td>\n",
       "      <td>...</td>\n",
       "      <td>...</td>\n",
       "      <td>...</td>\n",
       "      <td>...</td>\n",
       "      <td>...</td>\n",
       "      <td>...</td>\n",
       "      <td>...</td>\n",
       "      <td>...</td>\n",
       "      <td>...</td>\n",
       "    </tr>\n",
       "    <tr>\n",
       "      <th>139</th>\n",
       "      <td>317</td>\n",
       "      <td>GSM4161554</td>\n",
       "      <td>DU145</td>\n",
       "      <td>Res</td>\n",
       "      <td>31</td>\n",
       "      <td>0.666799</td>\n",
       "      <td>0.159235</td>\n",
       "      <td>0.249630</td>\n",
       "      <td>-0.581811</td>\n",
       "      <td>0.414855</td>\n",
       "      <td>...</td>\n",
       "      <td>0.060669</td>\n",
       "      <td>0.376486</td>\n",
       "      <td>0.470807</td>\n",
       "      <td>0.085373</td>\n",
       "      <td>-0.745858</td>\n",
       "      <td>0.821239</td>\n",
       "      <td>0.225139</td>\n",
       "      <td>0.272730</td>\n",
       "      <td>-0.086844</td>\n",
       "      <td>0.169056</td>\n",
       "    </tr>\n",
       "    <tr>\n",
       "      <th>140</th>\n",
       "      <td>319</td>\n",
       "      <td>GSM4161582</td>\n",
       "      <td>DU145</td>\n",
       "      <td>Res</td>\n",
       "      <td>59</td>\n",
       "      <td>0.601537</td>\n",
       "      <td>0.757688</td>\n",
       "      <td>-0.475806</td>\n",
       "      <td>0.125547</td>\n",
       "      <td>0.456239</td>\n",
       "      <td>...</td>\n",
       "      <td>0.114062</td>\n",
       "      <td>0.149807</td>\n",
       "      <td>0.120621</td>\n",
       "      <td>0.336645</td>\n",
       "      <td>0.469166</td>\n",
       "      <td>0.785935</td>\n",
       "      <td>0.570120</td>\n",
       "      <td>0.817134</td>\n",
       "      <td>0.255650</td>\n",
       "      <td>0.470696</td>\n",
       "    </tr>\n",
       "    <tr>\n",
       "      <th>141</th>\n",
       "      <td>321</td>\n",
       "      <td>GSM4161454</td>\n",
       "      <td>DU145</td>\n",
       "      <td>Sen</td>\n",
       "      <td>3</td>\n",
       "      <td>-0.169359</td>\n",
       "      <td>-0.111401</td>\n",
       "      <td>0.644305</td>\n",
       "      <td>0.515267</td>\n",
       "      <td>0.286351</td>\n",
       "      <td>...</td>\n",
       "      <td>0.758296</td>\n",
       "      <td>0.395701</td>\n",
       "      <td>-0.058982</td>\n",
       "      <td>0.086774</td>\n",
       "      <td>-0.549207</td>\n",
       "      <td>-0.947257</td>\n",
       "      <td>-0.188470</td>\n",
       "      <td>-0.631487</td>\n",
       "      <td>0.752464</td>\n",
       "      <td>0.272266</td>\n",
       "    </tr>\n",
       "    <tr>\n",
       "      <th>142</th>\n",
       "      <td>322</td>\n",
       "      <td>GSM4161503</td>\n",
       "      <td>DU145</td>\n",
       "      <td>Sen</td>\n",
       "      <td>52</td>\n",
       "      <td>-1.827037</td>\n",
       "      <td>-0.268182</td>\n",
       "      <td>1.126523</td>\n",
       "      <td>0.734655</td>\n",
       "      <td>0.566308</td>\n",
       "      <td>...</td>\n",
       "      <td>0.570846</td>\n",
       "      <td>0.645400</td>\n",
       "      <td>0.281107</td>\n",
       "      <td>1.236762</td>\n",
       "      <td>-2.354825</td>\n",
       "      <td>-1.679186</td>\n",
       "      <td>1.415231</td>\n",
       "      <td>0.401381</td>\n",
       "      <td>1.738879</td>\n",
       "      <td>0.873379</td>\n",
       "    </tr>\n",
       "    <tr>\n",
       "      <th>143</th>\n",
       "      <td>323</td>\n",
       "      <td>GSM4161460</td>\n",
       "      <td>DU145</td>\n",
       "      <td>Sen</td>\n",
       "      <td>9</td>\n",
       "      <td>-0.176717</td>\n",
       "      <td>0.037072</td>\n",
       "      <td>0.865817</td>\n",
       "      <td>0.542341</td>\n",
       "      <td>0.568008</td>\n",
       "      <td>...</td>\n",
       "      <td>0.636552</td>\n",
       "      <td>0.558828</td>\n",
       "      <td>0.547758</td>\n",
       "      <td>0.777368</td>\n",
       "      <td>0.661477</td>\n",
       "      <td>-0.559810</td>\n",
       "      <td>-0.007893</td>\n",
       "      <td>0.299360</td>\n",
       "      <td>0.556720</td>\n",
       "      <td>0.759671</td>\n",
       "    </tr>\n",
       "  </tbody>\n",
       "</table>\n",
       "<p>144 rows × 307 columns</p>\n",
       "</div>\n",
       "      <button class=\"colab-df-convert\" onclick=\"convertToInteractive('df-fa9150ad-2315-4142-9ac3-f674e1cf4347')\"\n",
       "              title=\"Convert this dataframe to an interactive table.\"\n",
       "              style=\"display:none;\">\n",
       "        \n",
       "  <svg xmlns=\"http://www.w3.org/2000/svg\" height=\"24px\"viewBox=\"0 0 24 24\"\n",
       "       width=\"24px\">\n",
       "    <path d=\"M0 0h24v24H0V0z\" fill=\"none\"/>\n",
       "    <path d=\"M18.56 5.44l.94 2.06.94-2.06 2.06-.94-2.06-.94-.94-2.06-.94 2.06-2.06.94zm-11 1L8.5 8.5l.94-2.06 2.06-.94-2.06-.94L8.5 2.5l-.94 2.06-2.06.94zm10 10l.94 2.06.94-2.06 2.06-.94-2.06-.94-.94-2.06-.94 2.06-2.06.94z\"/><path d=\"M17.41 7.96l-1.37-1.37c-.4-.4-.92-.59-1.43-.59-.52 0-1.04.2-1.43.59L10.3 9.45l-7.72 7.72c-.78.78-.78 2.05 0 2.83L4 21.41c.39.39.9.59 1.41.59.51 0 1.02-.2 1.41-.59l7.78-7.78 2.81-2.81c.8-.78.8-2.07 0-2.86zM5.41 20L4 18.59l7.72-7.72 1.47 1.35L5.41 20z\"/>\n",
       "  </svg>\n",
       "      </button>\n",
       "      \n",
       "  <style>\n",
       "    .colab-df-container {\n",
       "      display:flex;\n",
       "      flex-wrap:wrap;\n",
       "      gap: 12px;\n",
       "    }\n",
       "\n",
       "    .colab-df-convert {\n",
       "      background-color: #E8F0FE;\n",
       "      border: none;\n",
       "      border-radius: 50%;\n",
       "      cursor: pointer;\n",
       "      display: none;\n",
       "      fill: #1967D2;\n",
       "      height: 32px;\n",
       "      padding: 0 0 0 0;\n",
       "      width: 32px;\n",
       "    }\n",
       "\n",
       "    .colab-df-convert:hover {\n",
       "      background-color: #E2EBFA;\n",
       "      box-shadow: 0px 1px 2px rgba(60, 64, 67, 0.3), 0px 1px 3px 1px rgba(60, 64, 67, 0.15);\n",
       "      fill: #174EA6;\n",
       "    }\n",
       "\n",
       "    [theme=dark] .colab-df-convert {\n",
       "      background-color: #3B4455;\n",
       "      fill: #D2E3FC;\n",
       "    }\n",
       "\n",
       "    [theme=dark] .colab-df-convert:hover {\n",
       "      background-color: #434B5C;\n",
       "      box-shadow: 0px 1px 3px 1px rgba(0, 0, 0, 0.15);\n",
       "      filter: drop-shadow(0px 1px 2px rgba(0, 0, 0, 0.3));\n",
       "      fill: #FFFFFF;\n",
       "    }\n",
       "  </style>\n",
       "\n",
       "      <script>\n",
       "        const buttonEl =\n",
       "          document.querySelector('#df-fa9150ad-2315-4142-9ac3-f674e1cf4347 button.colab-df-convert');\n",
       "        buttonEl.style.display =\n",
       "          google.colab.kernel.accessAllowed ? 'block' : 'none';\n",
       "\n",
       "        async function convertToInteractive(key) {\n",
       "          const element = document.querySelector('#df-fa9150ad-2315-4142-9ac3-f674e1cf4347');\n",
       "          const dataTable =\n",
       "            await google.colab.kernel.invokeFunction('convertToInteractive',\n",
       "                                                     [key], {});\n",
       "          if (!dataTable) return;\n",
       "\n",
       "          const docLinkHtml = 'Like what you see? Visit the ' +\n",
       "            '<a target=\"_blank\" href=https://colab.research.google.com/notebooks/data_table.ipynb>data table notebook</a>'\n",
       "            + ' to learn more about interactive tables.';\n",
       "          element.innerHTML = '';\n",
       "          dataTable['output_type'] = 'display_data';\n",
       "          await google.colab.output.renderOutput(dataTable, element);\n",
       "          const docLink = document.createElement('div');\n",
       "          docLink.innerHTML = docLinkHtml;\n",
       "          element.appendChild(docLink);\n",
       "        }\n",
       "      </script>\n",
       "    </div>\n",
       "  </div>\n",
       "  "
      ],
      "text/plain": [
       "     og_df_idx      sample cell_line response  ID   CYP51A1     MGST1  \\\n",
       "0            1  GSM4161578     DU145      Res  55  1.095660  0.962989   \n",
       "1            3  GSM4161499     DU145      Sen  48 -1.367556 -1.892345   \n",
       "2            5  GSM4161557     DU145      Res  34  1.026333  0.476668   \n",
       "3            6  GSM4161538     DU145      Res  15  0.928410  0.566203   \n",
       "4            9  GSM4161457     DU145      Sen   6 -1.922705 -1.395724   \n",
       "..         ...         ...       ...      ...  ..       ...       ...   \n",
       "139        317  GSM4161554     DU145      Res  31  0.666799  0.159235   \n",
       "140        319  GSM4161582     DU145      Res  59  0.601537  0.757688   \n",
       "141        321  GSM4161454     DU145      Sen   3 -0.169359 -0.111401   \n",
       "142        322  GSM4161503     DU145      Sen  52 -1.827037 -0.268182   \n",
       "143        323  GSM4161460     DU145      Sen   9 -0.176717  0.037072   \n",
       "\n",
       "        VDAC3     STRAP     PSMA4  ...   LAPTM4B      TMX1     ADAM9  \\\n",
       "0   -0.390678 -0.020920  0.542339  ...  0.445006  0.167306  0.436825   \n",
       "1   -3.802103 -1.391733 -2.446313  ... -2.624757 -1.986447 -3.263612   \n",
       "2    0.146564 -0.010736  0.473771  ...  0.028082  0.607048  0.557547   \n",
       "3    0.109865  0.075118  0.471016  ...  0.127551 -0.229411  0.458631   \n",
       "4   -1.178172 -0.656984 -1.180434  ... -1.243050 -1.259246 -1.685750   \n",
       "..        ...       ...       ...  ...       ...       ...       ...   \n",
       "139  0.249630 -0.581811  0.414855  ...  0.060669  0.376486  0.470807   \n",
       "140 -0.475806  0.125547  0.456239  ...  0.114062  0.149807  0.120621   \n",
       "141  0.644305  0.515267  0.286351  ...  0.758296  0.395701 -0.058982   \n",
       "142  1.126523  0.734655  0.566308  ...  0.570846  0.645400  0.281107   \n",
       "143  0.865817  0.542341  0.568008  ...  0.636552  0.558828  0.547758   \n",
       "\n",
       "         EIF1     NCEH1     NEAT1     SNHG1       B2M      OAZ1     PSMB3  \n",
       "0    0.657008  0.465230  0.749750 -0.346104  0.949318  0.188539  0.288163  \n",
       "1   -1.208059 -1.360966 -2.241855  0.431866 -0.979595 -2.047853 -2.927521  \n",
       "2    0.249777 -0.030007 -0.160165 -3.308772  0.388580  0.718945  0.431462  \n",
       "3    0.183447  0.086968 -0.330964 -0.207033  0.531295 -0.057859  0.220060  \n",
       "4   -1.623156 -0.972156 -1.164160 -0.983181 -2.002477 -2.040096 -1.258305  \n",
       "..        ...       ...       ...       ...       ...       ...       ...  \n",
       "139  0.085373 -0.745858  0.821239  0.225139  0.272730 -0.086844  0.169056  \n",
       "140  0.336645  0.469166  0.785935  0.570120  0.817134  0.255650  0.470696  \n",
       "141  0.086774 -0.549207 -0.947257 -0.188470 -0.631487  0.752464  0.272266  \n",
       "142  1.236762 -2.354825 -1.679186  1.415231  0.401381  1.738879  0.873379  \n",
       "143  0.777368  0.661477 -0.559810 -0.007893  0.299360  0.556720  0.759671  \n",
       "\n",
       "[144 rows x 307 columns]"
      ]
     },
     "execution_count": 5,
     "metadata": {},
     "output_type": "execute_result"
    }
   ],
   "source": [
    "DU_data"
   ]
  },
  {
   "cell_type": "markdown",
   "metadata": {
    "id": "EWNuByzN0r6v"
   },
   "source": [
    "##PC_count and PC_label (Res:0, Sen:1)"
   ]
  },
  {
   "cell_type": "code",
   "execution_count": null,
   "metadata": {
    "id": "TrPjHVL90yii"
   },
   "outputs": [],
   "source": [
    "PC_count = PC_data.iloc[:,5:]\n",
    "PC_label = PC_data.response.map({'Res':0,'Sen':1})\n",
    "PC_gene_name = PC_data.columns[5:]"
   ]
  },
  {
   "cell_type": "code",
   "execution_count": null,
   "metadata": {
    "colab": {
     "base_uri": "https://localhost:8080/"
    },
    "id": "uHloIl5jmewx",
    "outputId": "2e13383a-72ca-42a6-bf1e-50db001ceb47"
   },
   "outputs": [
    {
     "data": {
      "text/html": [
       "\n",
       "  <div id=\"df-e3bb7df3-9e17-45be-99aa-c332fa830eb3\">\n",
       "    <div class=\"colab-df-container\">\n",
       "      <div>\n",
       "<style scoped>\n",
       "    .dataframe tbody tr th:only-of-type {\n",
       "        vertical-align: middle;\n",
       "    }\n",
       "\n",
       "    .dataframe tbody tr th {\n",
       "        vertical-align: top;\n",
       "    }\n",
       "\n",
       "    .dataframe thead th {\n",
       "        text-align: right;\n",
       "    }\n",
       "</style>\n",
       "<table border=\"1\" class=\"dataframe\">\n",
       "  <thead>\n",
       "    <tr style=\"text-align: right;\">\n",
       "      <th></th>\n",
       "      <th>CD9</th>\n",
       "      <th>SYPL1</th>\n",
       "      <th>NME1</th>\n",
       "      <th>PSMA4</th>\n",
       "      <th>ASNS</th>\n",
       "      <th>SLC25A3</th>\n",
       "      <th>ACTN1</th>\n",
       "      <th>RPS5</th>\n",
       "      <th>TMEM230</th>\n",
       "      <th>SERPIND1</th>\n",
       "      <th>...</th>\n",
       "      <th>HSBP1</th>\n",
       "      <th>MSMP</th>\n",
       "      <th>AC010970.2</th>\n",
       "      <th>TMX1</th>\n",
       "      <th>EIF1</th>\n",
       "      <th>NEAT1</th>\n",
       "      <th>CXCL2</th>\n",
       "      <th>MTATP6P1</th>\n",
       "      <th>MAL2</th>\n",
       "      <th>B2M</th>\n",
       "    </tr>\n",
       "  </thead>\n",
       "  <tbody>\n",
       "    <tr>\n",
       "      <th>0</th>\n",
       "      <td>-0.517198</td>\n",
       "      <td>-0.632057</td>\n",
       "      <td>-1.189322</td>\n",
       "      <td>-0.647247</td>\n",
       "      <td>-1.472626</td>\n",
       "      <td>0.501715</td>\n",
       "      <td>-2.641011</td>\n",
       "      <td>0.194652</td>\n",
       "      <td>0.659270</td>\n",
       "      <td>0.439286</td>\n",
       "      <td>...</td>\n",
       "      <td>0.461659</td>\n",
       "      <td>-1.179807</td>\n",
       "      <td>0.907275</td>\n",
       "      <td>-0.622409</td>\n",
       "      <td>0.512588</td>\n",
       "      <td>1.659146</td>\n",
       "      <td>-0.462996</td>\n",
       "      <td>0.883241</td>\n",
       "      <td>0.042648</td>\n",
       "      <td>0.888186</td>\n",
       "    </tr>\n",
       "    <tr>\n",
       "      <th>1</th>\n",
       "      <td>0.855890</td>\n",
       "      <td>0.796209</td>\n",
       "      <td>-0.246952</td>\n",
       "      <td>0.683444</td>\n",
       "      <td>1.172218</td>\n",
       "      <td>0.582238</td>\n",
       "      <td>0.190970</td>\n",
       "      <td>0.126495</td>\n",
       "      <td>0.862430</td>\n",
       "      <td>0.936234</td>\n",
       "      <td>...</td>\n",
       "      <td>0.801054</td>\n",
       "      <td>0.910677</td>\n",
       "      <td>0.015436</td>\n",
       "      <td>0.700068</td>\n",
       "      <td>1.099030</td>\n",
       "      <td>0.430106</td>\n",
       "      <td>0.010919</td>\n",
       "      <td>1.010342</td>\n",
       "      <td>0.570048</td>\n",
       "      <td>0.790960</td>\n",
       "    </tr>\n",
       "    <tr>\n",
       "      <th>2</th>\n",
       "      <td>1.232866</td>\n",
       "      <td>0.523105</td>\n",
       "      <td>0.267647</td>\n",
       "      <td>-0.082364</td>\n",
       "      <td>-1.311988</td>\n",
       "      <td>0.563408</td>\n",
       "      <td>0.310985</td>\n",
       "      <td>0.951028</td>\n",
       "      <td>0.854627</td>\n",
       "      <td>0.848532</td>\n",
       "      <td>...</td>\n",
       "      <td>1.321535</td>\n",
       "      <td>0.834046</td>\n",
       "      <td>-0.269744</td>\n",
       "      <td>0.238691</td>\n",
       "      <td>0.897919</td>\n",
       "      <td>0.096618</td>\n",
       "      <td>-0.462996</td>\n",
       "      <td>0.030137</td>\n",
       "      <td>1.124056</td>\n",
       "      <td>1.532183</td>\n",
       "    </tr>\n",
       "    <tr>\n",
       "      <th>3</th>\n",
       "      <td>-1.602350</td>\n",
       "      <td>-3.108739</td>\n",
       "      <td>1.229018</td>\n",
       "      <td>0.841351</td>\n",
       "      <td>-1.747239</td>\n",
       "      <td>0.203698</td>\n",
       "      <td>0.178839</td>\n",
       "      <td>-0.296877</td>\n",
       "      <td>-0.443366</td>\n",
       "      <td>0.736881</td>\n",
       "      <td>...</td>\n",
       "      <td>-0.970160</td>\n",
       "      <td>-0.221637</td>\n",
       "      <td>1.559325</td>\n",
       "      <td>-1.981431</td>\n",
       "      <td>0.278917</td>\n",
       "      <td>0.970147</td>\n",
       "      <td>-0.462996</td>\n",
       "      <td>1.675328</td>\n",
       "      <td>0.470497</td>\n",
       "      <td>-0.775891</td>\n",
       "    </tr>\n",
       "    <tr>\n",
       "      <th>4</th>\n",
       "      <td>-3.162352</td>\n",
       "      <td>0.178384</td>\n",
       "      <td>0.875522</td>\n",
       "      <td>0.379513</td>\n",
       "      <td>-1.747239</td>\n",
       "      <td>0.031320</td>\n",
       "      <td>0.367816</td>\n",
       "      <td>1.111318</td>\n",
       "      <td>-0.534107</td>\n",
       "      <td>-1.259345</td>\n",
       "      <td>...</td>\n",
       "      <td>-0.113371</td>\n",
       "      <td>0.042360</td>\n",
       "      <td>1.375198</td>\n",
       "      <td>-0.473401</td>\n",
       "      <td>0.819504</td>\n",
       "      <td>0.344814</td>\n",
       "      <td>-0.462996</td>\n",
       "      <td>0.132832</td>\n",
       "      <td>-0.400630</td>\n",
       "      <td>0.254669</td>\n",
       "    </tr>\n",
       "    <tr>\n",
       "      <th>...</th>\n",
       "      <td>...</td>\n",
       "      <td>...</td>\n",
       "      <td>...</td>\n",
       "      <td>...</td>\n",
       "      <td>...</td>\n",
       "      <td>...</td>\n",
       "      <td>...</td>\n",
       "      <td>...</td>\n",
       "      <td>...</td>\n",
       "      <td>...</td>\n",
       "      <td>...</td>\n",
       "      <td>...</td>\n",
       "      <td>...</td>\n",
       "      <td>...</td>\n",
       "      <td>...</td>\n",
       "      <td>...</td>\n",
       "      <td>...</td>\n",
       "      <td>...</td>\n",
       "      <td>...</td>\n",
       "      <td>...</td>\n",
       "      <td>...</td>\n",
       "    </tr>\n",
       "    <tr>\n",
       "      <th>175</th>\n",
       "      <td>0.226589</td>\n",
       "      <td>0.135960</td>\n",
       "      <td>-0.206338</td>\n",
       "      <td>-0.009528</td>\n",
       "      <td>0.721169</td>\n",
       "      <td>0.557455</td>\n",
       "      <td>0.105804</td>\n",
       "      <td>0.195639</td>\n",
       "      <td>0.582339</td>\n",
       "      <td>0.743680</td>\n",
       "      <td>...</td>\n",
       "      <td>0.685976</td>\n",
       "      <td>-0.692205</td>\n",
       "      <td>-0.368846</td>\n",
       "      <td>0.823014</td>\n",
       "      <td>0.265476</td>\n",
       "      <td>-0.633720</td>\n",
       "      <td>-0.462996</td>\n",
       "      <td>0.277005</td>\n",
       "      <td>0.295363</td>\n",
       "      <td>0.237641</td>\n",
       "    </tr>\n",
       "    <tr>\n",
       "      <th>176</th>\n",
       "      <td>0.275764</td>\n",
       "      <td>0.808447</td>\n",
       "      <td>0.506564</td>\n",
       "      <td>0.764273</td>\n",
       "      <td>0.318827</td>\n",
       "      <td>0.556858</td>\n",
       "      <td>0.811067</td>\n",
       "      <td>0.543087</td>\n",
       "      <td>0.138057</td>\n",
       "      <td>-1.259345</td>\n",
       "      <td>...</td>\n",
       "      <td>0.093772</td>\n",
       "      <td>0.290109</td>\n",
       "      <td>-0.365841</td>\n",
       "      <td>0.738206</td>\n",
       "      <td>-0.269705</td>\n",
       "      <td>0.433474</td>\n",
       "      <td>-0.462996</td>\n",
       "      <td>-0.402479</td>\n",
       "      <td>0.004855</td>\n",
       "      <td>0.589398</td>\n",
       "    </tr>\n",
       "    <tr>\n",
       "      <th>177</th>\n",
       "      <td>0.201476</td>\n",
       "      <td>0.098980</td>\n",
       "      <td>1.166131</td>\n",
       "      <td>0.417734</td>\n",
       "      <td>0.621491</td>\n",
       "      <td>1.122736</td>\n",
       "      <td>0.775244</td>\n",
       "      <td>0.929326</td>\n",
       "      <td>0.327387</td>\n",
       "      <td>-0.196893</td>\n",
       "      <td>...</td>\n",
       "      <td>-0.005680</td>\n",
       "      <td>-1.082856</td>\n",
       "      <td>0.788537</td>\n",
       "      <td>-0.063801</td>\n",
       "      <td>-0.513255</td>\n",
       "      <td>1.146777</td>\n",
       "      <td>-0.462996</td>\n",
       "      <td>-0.402479</td>\n",
       "      <td>-0.629075</td>\n",
       "      <td>0.209393</td>\n",
       "    </tr>\n",
       "    <tr>\n",
       "      <th>178</th>\n",
       "      <td>0.633939</td>\n",
       "      <td>-0.325539</td>\n",
       "      <td>-0.596326</td>\n",
       "      <td>0.245939</td>\n",
       "      <td>1.092216</td>\n",
       "      <td>0.128103</td>\n",
       "      <td>0.608223</td>\n",
       "      <td>-0.206637</td>\n",
       "      <td>0.697253</td>\n",
       "      <td>0.969494</td>\n",
       "      <td>...</td>\n",
       "      <td>0.628617</td>\n",
       "      <td>0.426614</td>\n",
       "      <td>-0.432058</td>\n",
       "      <td>0.449815</td>\n",
       "      <td>0.236087</td>\n",
       "      <td>-1.953418</td>\n",
       "      <td>0.484835</td>\n",
       "      <td>-0.206074</td>\n",
       "      <td>0.200745</td>\n",
       "      <td>0.127934</td>\n",
       "    </tr>\n",
       "    <tr>\n",
       "      <th>179</th>\n",
       "      <td>0.778357</td>\n",
       "      <td>0.037901</td>\n",
       "      <td>0.127676</td>\n",
       "      <td>0.319626</td>\n",
       "      <td>0.941092</td>\n",
       "      <td>0.247584</td>\n",
       "      <td>0.499005</td>\n",
       "      <td>0.589565</td>\n",
       "      <td>0.734673</td>\n",
       "      <td>1.183254</td>\n",
       "      <td>...</td>\n",
       "      <td>0.607905</td>\n",
       "      <td>0.201563</td>\n",
       "      <td>-0.030488</td>\n",
       "      <td>0.363703</td>\n",
       "      <td>0.955417</td>\n",
       "      <td>0.615826</td>\n",
       "      <td>-0.462996</td>\n",
       "      <td>0.100090</td>\n",
       "      <td>0.350079</td>\n",
       "      <td>0.519235</td>\n",
       "    </tr>\n",
       "  </tbody>\n",
       "</table>\n",
       "<p>180 rows × 302 columns</p>\n",
       "</div>\n",
       "      <button class=\"colab-df-convert\" onclick=\"convertToInteractive('df-e3bb7df3-9e17-45be-99aa-c332fa830eb3')\"\n",
       "              title=\"Convert this dataframe to an interactive table.\"\n",
       "              style=\"display:none;\">\n",
       "        \n",
       "  <svg xmlns=\"http://www.w3.org/2000/svg\" height=\"24px\"viewBox=\"0 0 24 24\"\n",
       "       width=\"24px\">\n",
       "    <path d=\"M0 0h24v24H0V0z\" fill=\"none\"/>\n",
       "    <path d=\"M18.56 5.44l.94 2.06.94-2.06 2.06-.94-2.06-.94-.94-2.06-.94 2.06-2.06.94zm-11 1L8.5 8.5l.94-2.06 2.06-.94-2.06-.94L8.5 2.5l-.94 2.06-2.06.94zm10 10l.94 2.06.94-2.06 2.06-.94-2.06-.94-.94-2.06-.94 2.06-2.06.94z\"/><path d=\"M17.41 7.96l-1.37-1.37c-.4-.4-.92-.59-1.43-.59-.52 0-1.04.2-1.43.59L10.3 9.45l-7.72 7.72c-.78.78-.78 2.05 0 2.83L4 21.41c.39.39.9.59 1.41.59.51 0 1.02-.2 1.41-.59l7.78-7.78 2.81-2.81c.8-.78.8-2.07 0-2.86zM5.41 20L4 18.59l7.72-7.72 1.47 1.35L5.41 20z\"/>\n",
       "  </svg>\n",
       "      </button>\n",
       "      \n",
       "  <style>\n",
       "    .colab-df-container {\n",
       "      display:flex;\n",
       "      flex-wrap:wrap;\n",
       "      gap: 12px;\n",
       "    }\n",
       "\n",
       "    .colab-df-convert {\n",
       "      background-color: #E8F0FE;\n",
       "      border: none;\n",
       "      border-radius: 50%;\n",
       "      cursor: pointer;\n",
       "      display: none;\n",
       "      fill: #1967D2;\n",
       "      height: 32px;\n",
       "      padding: 0 0 0 0;\n",
       "      width: 32px;\n",
       "    }\n",
       "\n",
       "    .colab-df-convert:hover {\n",
       "      background-color: #E2EBFA;\n",
       "      box-shadow: 0px 1px 2px rgba(60, 64, 67, 0.3), 0px 1px 3px 1px rgba(60, 64, 67, 0.15);\n",
       "      fill: #174EA6;\n",
       "    }\n",
       "\n",
       "    [theme=dark] .colab-df-convert {\n",
       "      background-color: #3B4455;\n",
       "      fill: #D2E3FC;\n",
       "    }\n",
       "\n",
       "    [theme=dark] .colab-df-convert:hover {\n",
       "      background-color: #434B5C;\n",
       "      box-shadow: 0px 1px 3px 1px rgba(0, 0, 0, 0.15);\n",
       "      filter: drop-shadow(0px 1px 2px rgba(0, 0, 0, 0.3));\n",
       "      fill: #FFFFFF;\n",
       "    }\n",
       "  </style>\n",
       "\n",
       "      <script>\n",
       "        const buttonEl =\n",
       "          document.querySelector('#df-e3bb7df3-9e17-45be-99aa-c332fa830eb3 button.colab-df-convert');\n",
       "        buttonEl.style.display =\n",
       "          google.colab.kernel.accessAllowed ? 'block' : 'none';\n",
       "\n",
       "        async function convertToInteractive(key) {\n",
       "          const element = document.querySelector('#df-e3bb7df3-9e17-45be-99aa-c332fa830eb3');\n",
       "          const dataTable =\n",
       "            await google.colab.kernel.invokeFunction('convertToInteractive',\n",
       "                                                     [key], {});\n",
       "          if (!dataTable) return;\n",
       "\n",
       "          const docLinkHtml = 'Like what you see? Visit the ' +\n",
       "            '<a target=\"_blank\" href=https://colab.research.google.com/notebooks/data_table.ipynb>data table notebook</a>'\n",
       "            + ' to learn more about interactive tables.';\n",
       "          element.innerHTML = '';\n",
       "          dataTable['output_type'] = 'display_data';\n",
       "          await google.colab.output.renderOutput(dataTable, element);\n",
       "          const docLink = document.createElement('div');\n",
       "          docLink.innerHTML = docLinkHtml;\n",
       "          element.appendChild(docLink);\n",
       "        }\n",
       "      </script>\n",
       "    </div>\n",
       "  </div>\n",
       "  "
      ],
      "text/plain": [
       "          CD9     SYPL1      NME1     PSMA4      ASNS   SLC25A3     ACTN1  \\\n",
       "0   -0.517198 -0.632057 -1.189322 -0.647247 -1.472626  0.501715 -2.641011   \n",
       "1    0.855890  0.796209 -0.246952  0.683444  1.172218  0.582238  0.190970   \n",
       "2    1.232866  0.523105  0.267647 -0.082364 -1.311988  0.563408  0.310985   \n",
       "3   -1.602350 -3.108739  1.229018  0.841351 -1.747239  0.203698  0.178839   \n",
       "4   -3.162352  0.178384  0.875522  0.379513 -1.747239  0.031320  0.367816   \n",
       "..        ...       ...       ...       ...       ...       ...       ...   \n",
       "175  0.226589  0.135960 -0.206338 -0.009528  0.721169  0.557455  0.105804   \n",
       "176  0.275764  0.808447  0.506564  0.764273  0.318827  0.556858  0.811067   \n",
       "177  0.201476  0.098980  1.166131  0.417734  0.621491  1.122736  0.775244   \n",
       "178  0.633939 -0.325539 -0.596326  0.245939  1.092216  0.128103  0.608223   \n",
       "179  0.778357  0.037901  0.127676  0.319626  0.941092  0.247584  0.499005   \n",
       "\n",
       "         RPS5   TMEM230  SERPIND1  ...     HSBP1      MSMP  AC010970.2  \\\n",
       "0    0.194652  0.659270  0.439286  ...  0.461659 -1.179807    0.907275   \n",
       "1    0.126495  0.862430  0.936234  ...  0.801054  0.910677    0.015436   \n",
       "2    0.951028  0.854627  0.848532  ...  1.321535  0.834046   -0.269744   \n",
       "3   -0.296877 -0.443366  0.736881  ... -0.970160 -0.221637    1.559325   \n",
       "4    1.111318 -0.534107 -1.259345  ... -0.113371  0.042360    1.375198   \n",
       "..        ...       ...       ...  ...       ...       ...         ...   \n",
       "175  0.195639  0.582339  0.743680  ...  0.685976 -0.692205   -0.368846   \n",
       "176  0.543087  0.138057 -1.259345  ...  0.093772  0.290109   -0.365841   \n",
       "177  0.929326  0.327387 -0.196893  ... -0.005680 -1.082856    0.788537   \n",
       "178 -0.206637  0.697253  0.969494  ...  0.628617  0.426614   -0.432058   \n",
       "179  0.589565  0.734673  1.183254  ...  0.607905  0.201563   -0.030488   \n",
       "\n",
       "         TMX1      EIF1     NEAT1     CXCL2  MTATP6P1      MAL2       B2M  \n",
       "0   -0.622409  0.512588  1.659146 -0.462996  0.883241  0.042648  0.888186  \n",
       "1    0.700068  1.099030  0.430106  0.010919  1.010342  0.570048  0.790960  \n",
       "2    0.238691  0.897919  0.096618 -0.462996  0.030137  1.124056  1.532183  \n",
       "3   -1.981431  0.278917  0.970147 -0.462996  1.675328  0.470497 -0.775891  \n",
       "4   -0.473401  0.819504  0.344814 -0.462996  0.132832 -0.400630  0.254669  \n",
       "..        ...       ...       ...       ...       ...       ...       ...  \n",
       "175  0.823014  0.265476 -0.633720 -0.462996  0.277005  0.295363  0.237641  \n",
       "176  0.738206 -0.269705  0.433474 -0.462996 -0.402479  0.004855  0.589398  \n",
       "177 -0.063801 -0.513255  1.146777 -0.462996 -0.402479 -0.629075  0.209393  \n",
       "178  0.449815  0.236087 -1.953418  0.484835 -0.206074  0.200745  0.127934  \n",
       "179  0.363703  0.955417  0.615826 -0.462996  0.100090  0.350079  0.519235  \n",
       "\n",
       "[180 rows x 302 columns]"
      ]
     },
     "execution_count": 7,
     "metadata": {},
     "output_type": "execute_result"
    }
   ],
   "source": [
    "PC_count"
   ]
  },
  {
   "cell_type": "markdown",
   "metadata": {
    "id": "7RdsfNVE0zUJ"
   },
   "source": [
    "##DU_count and DU_label (Res:0, Sen:1)"
   ]
  },
  {
   "cell_type": "code",
   "execution_count": null,
   "metadata": {
    "id": "4VTRZFCJ0zBR"
   },
   "outputs": [],
   "source": [
    "DU_count = DU_data.iloc[:,5:]\n",
    "DU_label = DU_data.response.map({'Res':0,'Sen':1})\n",
    "DU_gene_name = DU_data.columns[5:]"
   ]
  },
  {
   "cell_type": "code",
   "execution_count": null,
   "metadata": {
    "colab": {
     "base_uri": "https://localhost:8080/"
    },
    "id": "AbC4Sq4gmgOj",
    "outputId": "fa816b37-2210-4925-b37d-3bc540fb6595"
   },
   "outputs": [
    {
     "data": {
      "text/html": [
       "\n",
       "  <div id=\"df-54886113-94cb-43f2-9687-77a51430f696\">\n",
       "    <div class=\"colab-df-container\">\n",
       "      <div>\n",
       "<style scoped>\n",
       "    .dataframe tbody tr th:only-of-type {\n",
       "        vertical-align: middle;\n",
       "    }\n",
       "\n",
       "    .dataframe tbody tr th {\n",
       "        vertical-align: top;\n",
       "    }\n",
       "\n",
       "    .dataframe thead th {\n",
       "        text-align: right;\n",
       "    }\n",
       "</style>\n",
       "<table border=\"1\" class=\"dataframe\">\n",
       "  <thead>\n",
       "    <tr style=\"text-align: right;\">\n",
       "      <th></th>\n",
       "      <th>CYP51A1</th>\n",
       "      <th>MGST1</th>\n",
       "      <th>VDAC3</th>\n",
       "      <th>STRAP</th>\n",
       "      <th>PSMA4</th>\n",
       "      <th>TRIP13</th>\n",
       "      <th>SLC25A3</th>\n",
       "      <th>GADD45B</th>\n",
       "      <th>LGALS1</th>\n",
       "      <th>RPL3</th>\n",
       "      <th>...</th>\n",
       "      <th>LAPTM4B</th>\n",
       "      <th>TMX1</th>\n",
       "      <th>ADAM9</th>\n",
       "      <th>EIF1</th>\n",
       "      <th>NCEH1</th>\n",
       "      <th>NEAT1</th>\n",
       "      <th>SNHG1</th>\n",
       "      <th>B2M</th>\n",
       "      <th>OAZ1</th>\n",
       "      <th>PSMB3</th>\n",
       "    </tr>\n",
       "  </thead>\n",
       "  <tbody>\n",
       "    <tr>\n",
       "      <th>0</th>\n",
       "      <td>1.095660</td>\n",
       "      <td>0.962989</td>\n",
       "      <td>-0.390678</td>\n",
       "      <td>-0.020920</td>\n",
       "      <td>0.542339</td>\n",
       "      <td>-0.715000</td>\n",
       "      <td>0.574151</td>\n",
       "      <td>0.211113</td>\n",
       "      <td>0.365888</td>\n",
       "      <td>0.579046</td>\n",
       "      <td>...</td>\n",
       "      <td>0.445006</td>\n",
       "      <td>0.167306</td>\n",
       "      <td>0.436825</td>\n",
       "      <td>0.657008</td>\n",
       "      <td>0.465230</td>\n",
       "      <td>0.749750</td>\n",
       "      <td>-0.346104</td>\n",
       "      <td>0.949318</td>\n",
       "      <td>0.188539</td>\n",
       "      <td>0.288163</td>\n",
       "    </tr>\n",
       "    <tr>\n",
       "      <th>1</th>\n",
       "      <td>-1.367556</td>\n",
       "      <td>-1.892345</td>\n",
       "      <td>-3.802103</td>\n",
       "      <td>-1.391733</td>\n",
       "      <td>-2.446313</td>\n",
       "      <td>-3.072534</td>\n",
       "      <td>-2.083870</td>\n",
       "      <td>-1.158659</td>\n",
       "      <td>-0.648259</td>\n",
       "      <td>-1.643544</td>\n",
       "      <td>...</td>\n",
       "      <td>-2.624757</td>\n",
       "      <td>-1.986447</td>\n",
       "      <td>-3.263612</td>\n",
       "      <td>-1.208059</td>\n",
       "      <td>-1.360966</td>\n",
       "      <td>-2.241855</td>\n",
       "      <td>0.431866</td>\n",
       "      <td>-0.979595</td>\n",
       "      <td>-2.047853</td>\n",
       "      <td>-2.927521</td>\n",
       "    </tr>\n",
       "    <tr>\n",
       "      <th>2</th>\n",
       "      <td>1.026333</td>\n",
       "      <td>0.476668</td>\n",
       "      <td>0.146564</td>\n",
       "      <td>-0.010736</td>\n",
       "      <td>0.473771</td>\n",
       "      <td>0.189067</td>\n",
       "      <td>0.340793</td>\n",
       "      <td>0.143843</td>\n",
       "      <td>0.021019</td>\n",
       "      <td>0.568480</td>\n",
       "      <td>...</td>\n",
       "      <td>0.028082</td>\n",
       "      <td>0.607048</td>\n",
       "      <td>0.557547</td>\n",
       "      <td>0.249777</td>\n",
       "      <td>-0.030007</td>\n",
       "      <td>-0.160165</td>\n",
       "      <td>-3.308772</td>\n",
       "      <td>0.388580</td>\n",
       "      <td>0.718945</td>\n",
       "      <td>0.431462</td>\n",
       "    </tr>\n",
       "    <tr>\n",
       "      <th>3</th>\n",
       "      <td>0.928410</td>\n",
       "      <td>0.566203</td>\n",
       "      <td>0.109865</td>\n",
       "      <td>0.075118</td>\n",
       "      <td>0.471016</td>\n",
       "      <td>-0.900127</td>\n",
       "      <td>0.178655</td>\n",
       "      <td>-0.357254</td>\n",
       "      <td>0.807726</td>\n",
       "      <td>0.493234</td>\n",
       "      <td>...</td>\n",
       "      <td>0.127551</td>\n",
       "      <td>-0.229411</td>\n",
       "      <td>0.458631</td>\n",
       "      <td>0.183447</td>\n",
       "      <td>0.086968</td>\n",
       "      <td>-0.330964</td>\n",
       "      <td>-0.207033</td>\n",
       "      <td>0.531295</td>\n",
       "      <td>-0.057859</td>\n",
       "      <td>0.220060</td>\n",
       "    </tr>\n",
       "    <tr>\n",
       "      <th>4</th>\n",
       "      <td>-1.922705</td>\n",
       "      <td>-1.395724</td>\n",
       "      <td>-1.178172</td>\n",
       "      <td>-0.656984</td>\n",
       "      <td>-1.180434</td>\n",
       "      <td>-0.586705</td>\n",
       "      <td>-1.821023</td>\n",
       "      <td>-1.504895</td>\n",
       "      <td>-0.552873</td>\n",
       "      <td>-1.738477</td>\n",
       "      <td>...</td>\n",
       "      <td>-1.243050</td>\n",
       "      <td>-1.259246</td>\n",
       "      <td>-1.685750</td>\n",
       "      <td>-1.623156</td>\n",
       "      <td>-0.972156</td>\n",
       "      <td>-1.164160</td>\n",
       "      <td>-0.983181</td>\n",
       "      <td>-2.002477</td>\n",
       "      <td>-2.040096</td>\n",
       "      <td>-1.258305</td>\n",
       "    </tr>\n",
       "    <tr>\n",
       "      <th>...</th>\n",
       "      <td>...</td>\n",
       "      <td>...</td>\n",
       "      <td>...</td>\n",
       "      <td>...</td>\n",
       "      <td>...</td>\n",
       "      <td>...</td>\n",
       "      <td>...</td>\n",
       "      <td>...</td>\n",
       "      <td>...</td>\n",
       "      <td>...</td>\n",
       "      <td>...</td>\n",
       "      <td>...</td>\n",
       "      <td>...</td>\n",
       "      <td>...</td>\n",
       "      <td>...</td>\n",
       "      <td>...</td>\n",
       "      <td>...</td>\n",
       "      <td>...</td>\n",
       "      <td>...</td>\n",
       "      <td>...</td>\n",
       "      <td>...</td>\n",
       "    </tr>\n",
       "    <tr>\n",
       "      <th>139</th>\n",
       "      <td>0.666799</td>\n",
       "      <td>0.159235</td>\n",
       "      <td>0.249630</td>\n",
       "      <td>-0.581811</td>\n",
       "      <td>0.414855</td>\n",
       "      <td>0.329684</td>\n",
       "      <td>0.362232</td>\n",
       "      <td>0.645240</td>\n",
       "      <td>0.663223</td>\n",
       "      <td>0.601239</td>\n",
       "      <td>...</td>\n",
       "      <td>0.060669</td>\n",
       "      <td>0.376486</td>\n",
       "      <td>0.470807</td>\n",
       "      <td>0.085373</td>\n",
       "      <td>-0.745858</td>\n",
       "      <td>0.821239</td>\n",
       "      <td>0.225139</td>\n",
       "      <td>0.272730</td>\n",
       "      <td>-0.086844</td>\n",
       "      <td>0.169056</td>\n",
       "    </tr>\n",
       "    <tr>\n",
       "      <th>140</th>\n",
       "      <td>0.601537</td>\n",
       "      <td>0.757688</td>\n",
       "      <td>-0.475806</td>\n",
       "      <td>0.125547</td>\n",
       "      <td>0.456239</td>\n",
       "      <td>-0.245710</td>\n",
       "      <td>0.797448</td>\n",
       "      <td>0.352830</td>\n",
       "      <td>0.718262</td>\n",
       "      <td>0.335925</td>\n",
       "      <td>...</td>\n",
       "      <td>0.114062</td>\n",
       "      <td>0.149807</td>\n",
       "      <td>0.120621</td>\n",
       "      <td>0.336645</td>\n",
       "      <td>0.469166</td>\n",
       "      <td>0.785935</td>\n",
       "      <td>0.570120</td>\n",
       "      <td>0.817134</td>\n",
       "      <td>0.255650</td>\n",
       "      <td>0.470696</td>\n",
       "    </tr>\n",
       "    <tr>\n",
       "      <th>141</th>\n",
       "      <td>-0.169359</td>\n",
       "      <td>-0.111401</td>\n",
       "      <td>0.644305</td>\n",
       "      <td>0.515267</td>\n",
       "      <td>0.286351</td>\n",
       "      <td>0.750939</td>\n",
       "      <td>0.021313</td>\n",
       "      <td>0.093320</td>\n",
       "      <td>0.509231</td>\n",
       "      <td>0.561360</td>\n",
       "      <td>...</td>\n",
       "      <td>0.758296</td>\n",
       "      <td>0.395701</td>\n",
       "      <td>-0.058982</td>\n",
       "      <td>0.086774</td>\n",
       "      <td>-0.549207</td>\n",
       "      <td>-0.947257</td>\n",
       "      <td>-0.188470</td>\n",
       "      <td>-0.631487</td>\n",
       "      <td>0.752464</td>\n",
       "      <td>0.272266</td>\n",
       "    </tr>\n",
       "    <tr>\n",
       "      <th>142</th>\n",
       "      <td>-1.827037</td>\n",
       "      <td>-0.268182</td>\n",
       "      <td>1.126523</td>\n",
       "      <td>0.734655</td>\n",
       "      <td>0.566308</td>\n",
       "      <td>0.965115</td>\n",
       "      <td>0.676979</td>\n",
       "      <td>0.407204</td>\n",
       "      <td>1.088887</td>\n",
       "      <td>0.774739</td>\n",
       "      <td>...</td>\n",
       "      <td>0.570846</td>\n",
       "      <td>0.645400</td>\n",
       "      <td>0.281107</td>\n",
       "      <td>1.236762</td>\n",
       "      <td>-2.354825</td>\n",
       "      <td>-1.679186</td>\n",
       "      <td>1.415231</td>\n",
       "      <td>0.401381</td>\n",
       "      <td>1.738879</td>\n",
       "      <td>0.873379</td>\n",
       "    </tr>\n",
       "    <tr>\n",
       "      <th>143</th>\n",
       "      <td>-0.176717</td>\n",
       "      <td>0.037072</td>\n",
       "      <td>0.865817</td>\n",
       "      <td>0.542341</td>\n",
       "      <td>0.568008</td>\n",
       "      <td>0.871883</td>\n",
       "      <td>0.492828</td>\n",
       "      <td>-0.186131</td>\n",
       "      <td>0.931634</td>\n",
       "      <td>0.370145</td>\n",
       "      <td>...</td>\n",
       "      <td>0.636552</td>\n",
       "      <td>0.558828</td>\n",
       "      <td>0.547758</td>\n",
       "      <td>0.777368</td>\n",
       "      <td>0.661477</td>\n",
       "      <td>-0.559810</td>\n",
       "      <td>-0.007893</td>\n",
       "      <td>0.299360</td>\n",
       "      <td>0.556720</td>\n",
       "      <td>0.759671</td>\n",
       "    </tr>\n",
       "  </tbody>\n",
       "</table>\n",
       "<p>144 rows × 302 columns</p>\n",
       "</div>\n",
       "      <button class=\"colab-df-convert\" onclick=\"convertToInteractive('df-54886113-94cb-43f2-9687-77a51430f696')\"\n",
       "              title=\"Convert this dataframe to an interactive table.\"\n",
       "              style=\"display:none;\">\n",
       "        \n",
       "  <svg xmlns=\"http://www.w3.org/2000/svg\" height=\"24px\"viewBox=\"0 0 24 24\"\n",
       "       width=\"24px\">\n",
       "    <path d=\"M0 0h24v24H0V0z\" fill=\"none\"/>\n",
       "    <path d=\"M18.56 5.44l.94 2.06.94-2.06 2.06-.94-2.06-.94-.94-2.06-.94 2.06-2.06.94zm-11 1L8.5 8.5l.94-2.06 2.06-.94-2.06-.94L8.5 2.5l-.94 2.06-2.06.94zm10 10l.94 2.06.94-2.06 2.06-.94-2.06-.94-.94-2.06-.94 2.06-2.06.94z\"/><path d=\"M17.41 7.96l-1.37-1.37c-.4-.4-.92-.59-1.43-.59-.52 0-1.04.2-1.43.59L10.3 9.45l-7.72 7.72c-.78.78-.78 2.05 0 2.83L4 21.41c.39.39.9.59 1.41.59.51 0 1.02-.2 1.41-.59l7.78-7.78 2.81-2.81c.8-.78.8-2.07 0-2.86zM5.41 20L4 18.59l7.72-7.72 1.47 1.35L5.41 20z\"/>\n",
       "  </svg>\n",
       "      </button>\n",
       "      \n",
       "  <style>\n",
       "    .colab-df-container {\n",
       "      display:flex;\n",
       "      flex-wrap:wrap;\n",
       "      gap: 12px;\n",
       "    }\n",
       "\n",
       "    .colab-df-convert {\n",
       "      background-color: #E8F0FE;\n",
       "      border: none;\n",
       "      border-radius: 50%;\n",
       "      cursor: pointer;\n",
       "      display: none;\n",
       "      fill: #1967D2;\n",
       "      height: 32px;\n",
       "      padding: 0 0 0 0;\n",
       "      width: 32px;\n",
       "    }\n",
       "\n",
       "    .colab-df-convert:hover {\n",
       "      background-color: #E2EBFA;\n",
       "      box-shadow: 0px 1px 2px rgba(60, 64, 67, 0.3), 0px 1px 3px 1px rgba(60, 64, 67, 0.15);\n",
       "      fill: #174EA6;\n",
       "    }\n",
       "\n",
       "    [theme=dark] .colab-df-convert {\n",
       "      background-color: #3B4455;\n",
       "      fill: #D2E3FC;\n",
       "    }\n",
       "\n",
       "    [theme=dark] .colab-df-convert:hover {\n",
       "      background-color: #434B5C;\n",
       "      box-shadow: 0px 1px 3px 1px rgba(0, 0, 0, 0.15);\n",
       "      filter: drop-shadow(0px 1px 2px rgba(0, 0, 0, 0.3));\n",
       "      fill: #FFFFFF;\n",
       "    }\n",
       "  </style>\n",
       "\n",
       "      <script>\n",
       "        const buttonEl =\n",
       "          document.querySelector('#df-54886113-94cb-43f2-9687-77a51430f696 button.colab-df-convert');\n",
       "        buttonEl.style.display =\n",
       "          google.colab.kernel.accessAllowed ? 'block' : 'none';\n",
       "\n",
       "        async function convertToInteractive(key) {\n",
       "          const element = document.querySelector('#df-54886113-94cb-43f2-9687-77a51430f696');\n",
       "          const dataTable =\n",
       "            await google.colab.kernel.invokeFunction('convertToInteractive',\n",
       "                                                     [key], {});\n",
       "          if (!dataTable) return;\n",
       "\n",
       "          const docLinkHtml = 'Like what you see? Visit the ' +\n",
       "            '<a target=\"_blank\" href=https://colab.research.google.com/notebooks/data_table.ipynb>data table notebook</a>'\n",
       "            + ' to learn more about interactive tables.';\n",
       "          element.innerHTML = '';\n",
       "          dataTable['output_type'] = 'display_data';\n",
       "          await google.colab.output.renderOutput(dataTable, element);\n",
       "          const docLink = document.createElement('div');\n",
       "          docLink.innerHTML = docLinkHtml;\n",
       "          element.appendChild(docLink);\n",
       "        }\n",
       "      </script>\n",
       "    </div>\n",
       "  </div>\n",
       "  "
      ],
      "text/plain": [
       "      CYP51A1     MGST1     VDAC3     STRAP     PSMA4    TRIP13   SLC25A3  \\\n",
       "0    1.095660  0.962989 -0.390678 -0.020920  0.542339 -0.715000  0.574151   \n",
       "1   -1.367556 -1.892345 -3.802103 -1.391733 -2.446313 -3.072534 -2.083870   \n",
       "2    1.026333  0.476668  0.146564 -0.010736  0.473771  0.189067  0.340793   \n",
       "3    0.928410  0.566203  0.109865  0.075118  0.471016 -0.900127  0.178655   \n",
       "4   -1.922705 -1.395724 -1.178172 -0.656984 -1.180434 -0.586705 -1.821023   \n",
       "..        ...       ...       ...       ...       ...       ...       ...   \n",
       "139  0.666799  0.159235  0.249630 -0.581811  0.414855  0.329684  0.362232   \n",
       "140  0.601537  0.757688 -0.475806  0.125547  0.456239 -0.245710  0.797448   \n",
       "141 -0.169359 -0.111401  0.644305  0.515267  0.286351  0.750939  0.021313   \n",
       "142 -1.827037 -0.268182  1.126523  0.734655  0.566308  0.965115  0.676979   \n",
       "143 -0.176717  0.037072  0.865817  0.542341  0.568008  0.871883  0.492828   \n",
       "\n",
       "      GADD45B    LGALS1      RPL3  ...   LAPTM4B      TMX1     ADAM9  \\\n",
       "0    0.211113  0.365888  0.579046  ...  0.445006  0.167306  0.436825   \n",
       "1   -1.158659 -0.648259 -1.643544  ... -2.624757 -1.986447 -3.263612   \n",
       "2    0.143843  0.021019  0.568480  ...  0.028082  0.607048  0.557547   \n",
       "3   -0.357254  0.807726  0.493234  ...  0.127551 -0.229411  0.458631   \n",
       "4   -1.504895 -0.552873 -1.738477  ... -1.243050 -1.259246 -1.685750   \n",
       "..        ...       ...       ...  ...       ...       ...       ...   \n",
       "139  0.645240  0.663223  0.601239  ...  0.060669  0.376486  0.470807   \n",
       "140  0.352830  0.718262  0.335925  ...  0.114062  0.149807  0.120621   \n",
       "141  0.093320  0.509231  0.561360  ...  0.758296  0.395701 -0.058982   \n",
       "142  0.407204  1.088887  0.774739  ...  0.570846  0.645400  0.281107   \n",
       "143 -0.186131  0.931634  0.370145  ...  0.636552  0.558828  0.547758   \n",
       "\n",
       "         EIF1     NCEH1     NEAT1     SNHG1       B2M      OAZ1     PSMB3  \n",
       "0    0.657008  0.465230  0.749750 -0.346104  0.949318  0.188539  0.288163  \n",
       "1   -1.208059 -1.360966 -2.241855  0.431866 -0.979595 -2.047853 -2.927521  \n",
       "2    0.249777 -0.030007 -0.160165 -3.308772  0.388580  0.718945  0.431462  \n",
       "3    0.183447  0.086968 -0.330964 -0.207033  0.531295 -0.057859  0.220060  \n",
       "4   -1.623156 -0.972156 -1.164160 -0.983181 -2.002477 -2.040096 -1.258305  \n",
       "..        ...       ...       ...       ...       ...       ...       ...  \n",
       "139  0.085373 -0.745858  0.821239  0.225139  0.272730 -0.086844  0.169056  \n",
       "140  0.336645  0.469166  0.785935  0.570120  0.817134  0.255650  0.470696  \n",
       "141  0.086774 -0.549207 -0.947257 -0.188470 -0.631487  0.752464  0.272266  \n",
       "142  1.236762 -2.354825 -1.679186  1.415231  0.401381  1.738879  0.873379  \n",
       "143  0.777368  0.661477 -0.559810 -0.007893  0.299360  0.556720  0.759671  \n",
       "\n",
       "[144 rows x 302 columns]"
      ]
     },
     "execution_count": 9,
     "metadata": {},
     "output_type": "execute_result"
    }
   ],
   "source": [
    "DU_count"
   ]
  },
  {
   "cell_type": "markdown",
   "metadata": {
    "id": "X4tu0X6dwRA3"
   },
   "source": [
    "# PCA"
   ]
  },
  {
   "cell_type": "code",
   "execution_count": null,
   "metadata": {
    "id": "D8Gc74d6wSfj"
   },
   "outputs": [],
   "source": [
    "from sklearn.decomposition import PCA"
   ]
  },
  {
   "cell_type": "markdown",
   "metadata": {
    "id": "4erbrk4S1NFw"
   },
   "source": [
    "##PC"
   ]
  },
  {
   "cell_type": "code",
   "execution_count": null,
   "metadata": {
    "id": "_KaKcH1dDqHv"
   },
   "outputs": [],
   "source": [
    "PC_pca = PCA(n_components=180)\n",
    "PC_pca.fit(PC_count)\n",
    "PC_variance = PC_pca.explained_variance_ratio_[0:2,]\n",
    "PC_count = PC_pca.transform(PC_count)"
   ]
  },
  {
   "cell_type": "code",
   "execution_count": null,
   "metadata": {
    "colab": {
     "base_uri": "https://localhost:8080/",
     "height": 352
    },
    "id": "ZD23m2LrDuuy",
    "outputId": "3ea32902-0895-4299-a1bf-a97c090464a2"
   },
   "outputs": [
    {
     "name": "stderr",
     "output_type": "stream",
     "text": [
      "/usr/local/lib/python3.7/dist-packages/seaborn/_decorators.py:43: FutureWarning: Pass the following variables as keyword args: x, y. From version 0.12, the only valid positional argument will be `data`, and passing other arguments without an explicit keyword will result in an error or misinterpretation.\n",
      "  FutureWarning\n"
     ]
    },
    {
     "data": {
      "text/plain": [
       "Text(0, 0.5, 'PC2: 0.11')"
      ]
     },
     "execution_count": 12,
     "metadata": {},
     "output_type": "execute_result"
    },
    {
     "data": {
      "image/png": "[encoded data removed]",
      "text/plain": [
       "<Figure size 432x288 with 1 Axes>"
      ]
     },
     "metadata": {
      "needs_background": "light"
     },
     "output_type": "display_data"
    }
   ],
   "source": [
    "sns.scatterplot(PC_count[:,0], PC_count[:,1], hue=PC_label, legend='full')\n",
    "#plt.legend(loc ='lower right')\n",
    "plt.xlabel('PC1: '+ str(round(PC_variance[0],2)))\n",
    "plt.ylabel('PC2: '+ str(round(PC_variance[1],2)))"
   ]
  },
  {
   "cell_type": "markdown",
   "metadata": {
    "id": "ZGxhAIDFDxJb"
   },
   "source": [
    "###Plot PC_loadings"
   ]
  },
  {
   "cell_type": "code",
   "execution_count": null,
   "metadata": {
    "id": "HxDxMoj_D4vT"
   },
   "outputs": [],
   "source": [
    "PC_loadings = PC_pca.components_.T * np.sqrt(PC_pca.explained_variance_)"
   ]
  },
  {
   "cell_type": "code",
   "execution_count": null,
   "metadata": {
    "colab": {
     "base_uri": "https://localhost:8080/",
     "height": 297
    },
    "id": "15Z6edoBD7uS",
    "outputId": "3d02739d-63cd-4d58-9048-d6ee4aecafbc"
   },
   "outputs": [
    {
     "data": {
      "text/plain": [
       "Text(0, 0.5, 'Loadings')"
      ]
     },
     "execution_count": 14,
     "metadata": {},
     "output_type": "execute_result"
    },
    {
     "data": {
      "image/png": "[encoded data removed]",
      "text/plain": [
       "<Figure size 432x288 with 1 Axes>"
      ]
     },
     "metadata": {
      "needs_background": "light"
     },
     "output_type": "display_data"
    }
   ],
   "source": [
    "plt.scatter(range(len(PC_loadings[:,0])),PC_loadings[:,0])\n",
    "plt.xlabel(\"genes\")\n",
    "plt.ylabel(\"Loadings\")\n",
    "#plt.title(\"PC1: \"+str(round(PC_variance[0],2)))"
   ]
  },
  {
   "cell_type": "markdown",
   "metadata": {
    "id": "bTgBdVui1YL7"
   },
   "source": [
    "##DU"
   ]
  },
  {
   "cell_type": "code",
   "execution_count": null,
   "metadata": {
    "id": "I1R1m9zS1cCZ"
   },
   "outputs": [],
   "source": [
    "DU_pca = PCA(n_components=DU_count.shape[0])\n",
    "DU_pca.fit(DU_count)\n",
    "DU_variance = DU_pca.explained_variance_ratio_[0:2,]\n",
    "DU_count = DU_pca.transform(DU_count)"
   ]
  },
  {
   "cell_type": "code",
   "execution_count": null,
   "metadata": {
    "colab": {
     "base_uri": "https://localhost:8080/",
     "height": 352
    },
    "id": "FDqM4_jz1vsm",
    "outputId": "761a0a31-4de4-48b8-afc3-ef275eaa2e3f"
   },
   "outputs": [
    {
     "name": "stderr",
     "output_type": "stream",
     "text": [
      "/usr/local/lib/python3.7/dist-packages/seaborn/_decorators.py:43: FutureWarning: Pass the following variables as keyword args: x, y. From version 0.12, the only valid positional argument will be `data`, and passing other arguments without an explicit keyword will result in an error or misinterpretation.\n",
      "  FutureWarning\n"
     ]
    },
    {
     "data": {
      "text/plain": [
       "Text(0, 0.5, 'PC2: 0.07')"
      ]
     },
     "execution_count": 16,
     "metadata": {},
     "output_type": "execute_result"
    },
    {
     "data": {
      "image/png": "[encoded data removed]",
      "text/plain": [
       "<Figure size 432x288 with 1 Axes>"
      ]
     },
     "metadata": {
      "needs_background": "light"
     },
     "output_type": "display_data"
    }
   ],
   "source": [
    "sns.scatterplot(DU_count[:,0], DU_count[:,1], hue=DU_label, legend='full')\n",
    "#plt.legend(loc ='lower right')\n",
    "plt.xlabel('PC1: '+ str(round(DU_variance[0],2)))\n",
    "plt.ylabel('PC2: '+ str(round(DU_variance[1],2)))"
   ]
  },
  {
   "cell_type": "markdown",
   "metadata": {
    "id": "tZthOffW1aVS"
   },
   "source": [
    "###Plot DU_loadings"
   ]
  },
  {
   "cell_type": "code",
   "execution_count": null,
   "metadata": {
    "id": "z0esqdFh2PYP"
   },
   "outputs": [],
   "source": [
    "DU_loadings = DU_pca.components_.T * np.sqrt(DU_pca.explained_variance_)"
   ]
  },
  {
   "cell_type": "code",
   "execution_count": null,
   "metadata": {
    "colab": {
     "base_uri": "https://localhost:8080/",
     "height": 297
    },
    "id": "T5dTtVeQ2Rph",
    "outputId": "12639513-ad31-4686-f078-66ec416ccc09"
   },
   "outputs": [
    {
     "data": {
      "text/plain": [
       "Text(0, 0.5, 'Loadings')"
      ]
     },
     "execution_count": 18,
     "metadata": {},
     "output_type": "execute_result"
    },
    {
     "data": {
      "image/png": "[encoded data removed]",
      "text/plain": [
       "<Figure size 432x288 with 1 Axes>"
      ]
     },
     "metadata": {
      "needs_background": "light"
     },
     "output_type": "display_data"
    }
   ],
   "source": [
    "plt.scatter(range(len(DU_loadings[:,0])),DU_loadings[:,0])\n",
    "plt.xlabel(\"genes\")\n",
    "plt.ylabel(\"Loadings\")\n",
    "#plt.title(\"PC1: \"+str(round(DU_variance[0],2)))"
   ]
  },
  {
   "cell_type": "markdown",
   "metadata": {
    "id": "EdtdG-YphTSC"
   },
   "source": [
    "##genes"
   ]
  },
  {
   "cell_type": "code",
   "execution_count": null,
   "metadata": {
    "id": "PyRlRXsvhZOs"
   },
   "outputs": [],
   "source": [
    "PC_1_loading = pd.DataFrame(abs(PC_loadings[:,0:1]), columns=['PC1'], index=PC_gene_name)"
   ]
  },
  {
   "cell_type": "code",
   "execution_count": null,
   "metadata": {
    "colab": {
     "base_uri": "https://localhost:8080/"
    },
    "id": "UViezc15ha_H",
    "outputId": "85bee7d3-7e9d-4f70-d93c-507b6f42cd13"
   },
   "outputs": [
    {
     "data": {
      "text/plain": [
       "85"
      ]
     },
     "execution_count": 20,
     "metadata": {},
     "output_type": "execute_result"
    }
   ],
   "source": [
    "PC_gene = []\n",
    "for i in range(len(PC_1_loading)):\n",
    "    if PC_1_loading['PC1'][i] > 0.8:\n",
    "        PC_gene.append(PC_gene_name[i])\n",
    "len(PC_gene)"
   ]
  },
  {
   "cell_type": "code",
   "execution_count": null,
   "metadata": {
    "colab": {
     "base_uri": "https://localhost:8080/",
     "height": 35
    },
    "id": "ZTG4KO2qrQ4D",
    "outputId": "e0a97a29-f492-48ff-e2b8-4b5a3cedbf59"
   },
   "outputs": [
    {
     "data": {
      "application/vnd.google.colaboratory.intrinsic+json": {
       "type": "string"
      },
      "text/plain": [
       "'PSMA7'"
      ]
     },
     "execution_count": 30,
     "metadata": {},
     "output_type": "execute_result"
    }
   ],
   "source": [
    "PC_max_gene = PC_1_loading['PC1'].idxmax()\n",
    "PC_max_gene"
   ]
  },
  {
   "cell_type": "code",
   "execution_count": null,
   "metadata": {
    "id": "ULFHsm8YhciF"
   },
   "outputs": [],
   "source": [
    "DU_1_loading = pd.DataFrame(abs(DU_loadings[:,0:1]), columns=['PC1'], index=DU_gene_name)"
   ]
  },
  {
   "cell_type": "code",
   "execution_count": null,
   "metadata": {
    "colab": {
     "base_uri": "https://localhost:8080/"
    },
    "id": "04qSDrGzhf2d",
    "outputId": "001aaf4d-2ced-4bd8-9e64-148a3c5f5c1f"
   },
   "outputs": [
    {
     "data": {
      "text/plain": [
       "82"
      ]
     },
     "execution_count": 22,
     "metadata": {},
     "output_type": "execute_result"
    }
   ],
   "source": [
    "DU_gene = []\n",
    "for i in range(len(DU_1_loading)):\n",
    "    if DU_1_loading['PC1'][i] > 0.9:\n",
    "        DU_gene.append(DU_gene_name[i])\n",
    "len(DU_gene)"
   ]
  },
  {
   "cell_type": "code",
   "execution_count": null,
   "metadata": {
    "colab": {
     "base_uri": "https://localhost:8080/",
     "height": 35
    },
    "id": "sGav2Z3yrhHp",
    "outputId": "1396bd26-423a-45a8-af25-3c98ecd5cd83"
   },
   "outputs": [
    {
     "data": {
      "application/vnd.google.colaboratory.intrinsic+json": {
       "type": "string"
      },
      "text/plain": [
       "'YWHAZ'"
      ]
     },
     "execution_count": 31,
     "metadata": {},
     "output_type": "execute_result"
    }
   ],
   "source": [
    "DU_max_gene = DU_1_loading['PC1'].idxmax()\n",
    "DU_max_gene"
   ]
  },
  {
   "cell_type": "code",
   "execution_count": null,
   "metadata": {
    "colab": {
     "base_uri": "https://localhost:8080/"
    },
    "id": "dsDztCJjhgcG",
    "outputId": "1aff8893-1627-46d7-bd5f-fa83173d9f81"
   },
   "outputs": [
    {
     "data": {
      "text/plain": [
       "37"
      ]
     },
     "execution_count": 23,
     "metadata": {},
     "output_type": "execute_result"
    }
   ],
   "source": [
    "jiazi_gene = set.intersection(set(PC_gene), set(DU_gene))\n",
    "jiazi_gene = list(jiazi_gene)\n",
    "len(jiazi_gene)"
   ]
  },
  {
   "cell_type": "code",
   "execution_count": null,
   "metadata": {
    "id": "Ih2Yu6symImr"
   },
   "outputs": [],
   "source": [
    "with open(\"/content/gdrive/MyDrive/BST281_FinalProject/Jiazi_selectedgenes.txt\", 'w') as f:\n",
    "    for gene in jiazi_gene:\n",
    "        f.write(gene)\n",
    "        f.write('\\n')"
   ]
  },
  {
   "cell_type": "code",
   "execution_count": null,
   "metadata": {
    "colab": {
     "base_uri": "https://localhost:8080/"
    },
    "id": "127WqUyWhmEn",
    "outputId": "9d78a9de-08c3-4194-9e13-4717fdc51a9d"
   },
   "outputs": [
    {
     "data": {
      "text/plain": [
       "['NPM1',\n",
       " 'YWHAZ',\n",
       " 'PTGES3',\n",
       " 'TPI1',\n",
       " 'PSMA7',\n",
       " 'PRDX1',\n",
       " 'BZW1',\n",
       " 'TCP1',\n",
       " 'COX4I1',\n",
       " 'PARK7',\n",
       " 'PSMB6',\n",
       " 'YWHAQ',\n",
       " 'RPL15',\n",
       " 'CFL1',\n",
       " 'DDX5',\n",
       " 'RAN',\n",
       " 'TMX1',\n",
       " 'CLIC1',\n",
       " 'LDHB',\n",
       " 'EIF2S1',\n",
       " 'CCT5',\n",
       " 'TPM3',\n",
       " 'PSMB5',\n",
       " 'PSMD2',\n",
       " 'HNRNPA2B1',\n",
       " 'PPIA',\n",
       " 'RHOA',\n",
       " 'GAPDH',\n",
       " 'PSMB1',\n",
       " 'ASPH',\n",
       " 'PFN1',\n",
       " 'ATP5B',\n",
       " 'ALDOA',\n",
       " 'CALM1',\n",
       " 'PKM',\n",
       " 'ANXA2',\n",
       " 'ACTB']"
      ]
     },
     "execution_count": 25,
     "metadata": {},
     "output_type": "execute_result"
    }
   ],
   "source": [
    "jiazi_gene"
   ]
  },
  {
   "cell_type": "code",
   "execution_count": null,
   "metadata": {
    "colab": {
     "base_uri": "https://localhost:8080/"
    },
    "id": "yBHgf8akhiYl",
    "outputId": "c4c13cf7-6e2a-4249-df63-ef117a594e29"
   },
   "outputs": [
    {
     "data": {
      "text/plain": [
       "['HIF1A',\n",
       " 'HSPA5',\n",
       " 'KPNA2',\n",
       " 'TFRC',\n",
       " 'CENPF',\n",
       " 'DKK1',\n",
       " 'HIST1H4C',\n",
       " 'KRT18',\n",
       " 'GARS',\n",
       " 'TOP2A',\n",
       " 'NEAT1']"
      ]
     },
     "execution_count": 26,
     "metadata": {},
     "output_type": "execute_result"
    }
   ],
   "source": [
    "with open(\"/content/gdrive/MyDrive/BST281_FinalProject/Marie_selectedgenes.txt\", \"r\") as file:\n",
    "    Marie_gene=file.read().splitlines()\n",
    "Marie_gene"
   ]
  },
  {
   "cell_type": "code",
   "execution_count": null,
   "metadata": {
    "colab": {
     "base_uri": "https://localhost:8080/"
    },
    "id": "4ZCBzE6MhkF1",
    "outputId": "0fc78007-1660-4874-b856-e63db917cd3a"
   },
   "outputs": [
    {
     "data": {
      "text/plain": [
       "0"
      ]
     },
     "execution_count": 27,
     "metadata": {},
     "output_type": "execute_result"
    }
   ],
   "source": [
    "intersection_gene = set.intersection(set(jiazi_gene), set(Marie_gene))\n",
    "intersection_gene = list(intersection_gene)\n",
    "len(intersection_gene)"
   ]
  },
  {
   "cell_type": "markdown",
   "metadata": {
    "id": "IRLs0EPfwTZt"
   },
   "source": [
    "# t-SNE"
   ]
  },
  {
   "cell_type": "code",
   "execution_count": null,
   "metadata": {
    "id": "kv6dGJLgwxHR"
   },
   "outputs": [],
   "source": [
    "from sklearn.manifold import TSNE"
   ]
  },
  {
   "cell_type": "markdown",
   "metadata": {
    "id": "VBq_X0ps2el2"
   },
   "source": [
    "##PC"
   ]
  },
  {
   "cell_type": "code",
   "execution_count": null,
   "metadata": {
    "id": "d2f8t9rzEEzj"
   },
   "outputs": [],
   "source": [
    "PC_embedded = TSNE(n_components=2, learning_rate='auto', init='random').fit_transform(PC_count)"
   ]
  },
  {
   "cell_type": "code",
   "execution_count": null,
   "metadata": {
    "colab": {
     "base_uri": "https://localhost:8080/",
     "height": 352
    },
    "id": "TB-AxxbqEG1w",
    "outputId": "f57b7c67-4a14-4c4c-9963-7fa9f8db7cea"
   },
   "outputs": [
    {
     "name": "stderr",
     "output_type": "stream",
     "text": [
      "/usr/local/lib/python3.7/dist-packages/seaborn/_decorators.py:43: FutureWarning: Pass the following variables as keyword args: x, y. From version 0.12, the only valid positional argument will be `data`, and passing other arguments without an explicit keyword will result in an error or misinterpretation.\n",
      "  FutureWarning\n"
     ]
    },
    {
     "data": {
      "text/plain": [
       "Text(0, 0.5, 'tSNE2')"
      ]
     },
     "execution_count": 29,
     "metadata": {},
     "output_type": "execute_result"
    },
    {
     "data": {
      "image/png": "[encoded data removed]",
      "text/plain": [
       "<Figure size 432x288 with 1 Axes>"
      ]
     },
     "metadata": {
      "needs_background": "light"
     },
     "output_type": "display_data"
    }
   ],
   "source": [
    "sns.scatterplot(PC_embedded[:,0], PC_embedded[:,1], hue=PC_label, legend='full')\n",
    "#plt.legend(loc ='lower right')\n",
    "plt.xlabel('tSNE1')\n",
    "plt.ylabel('tSNE2')"
   ]
  },
  {
   "cell_type": "markdown",
   "metadata": {
    "id": "pl4EE0nK2gyb"
   },
   "source": [
    "##DU"
   ]
  },
  {
   "cell_type": "code",
   "execution_count": null,
   "metadata": {
    "id": "Kt4vZSe42jHG"
   },
   "outputs": [],
   "source": [
    "DU_embedded = TSNE(n_components=2, learning_rate='auto', init='random').fit_transform(DU_count)"
   ]
  },
  {
   "cell_type": "code",
   "execution_count": null,
   "metadata": {
    "colab": {
     "base_uri": "https://localhost:8080/",
     "height": 352
    },
    "id": "8i6lksFN2mAr",
    "outputId": "7244c657-7945-46d4-d4c5-595529f9a8d7"
   },
   "outputs": [
    {
     "name": "stderr",
     "output_type": "stream",
     "text": [
      "/usr/local/lib/python3.7/dist-packages/seaborn/_decorators.py:43: FutureWarning: Pass the following variables as keyword args: x, y. From version 0.12, the only valid positional argument will be `data`, and passing other arguments without an explicit keyword will result in an error or misinterpretation.\n",
      "  FutureWarning\n"
     ]
    },
    {
     "data": {
      "text/plain": [
       "Text(0, 0.5, 'tSNE2')"
      ]
     },
     "execution_count": 31,
     "metadata": {},
     "output_type": "execute_result"
    },
    {
     "data": {
      "image/png": "[encoded data removed]",
      "text/plain": [
       "<Figure size 432x288 with 1 Axes>"
      ]
     },
     "metadata": {
      "needs_background": "light"
     },
     "output_type": "display_data"
    }
   ],
   "source": [
    "sns.scatterplot(DU_embedded[:,0], DU_embedded[:,1], hue=DU_label, legend='full')\n",
    "#plt.legend(loc ='lower right')\n",
    "plt.xlabel('tSNE1')\n",
    "plt.ylabel('tSNE2')"
   ]
  },
  {
   "cell_type": "markdown",
   "metadata": {
    "id": "sDdHhjWidGgA"
   },
   "source": [
    "#UMAP"
   ]
  },
  {
   "cell_type": "code",
   "execution_count": null,
   "metadata": {
    "colab": {
     "base_uri": "https://localhost:8080/"
    },
    "id": "Nad1RUOk24N3",
    "outputId": "a1af5be7-056a-4e1d-f61c-63398a1ca46b"
   },
   "outputs": [
    {
     "name": "stdout",
     "output_type": "stream",
     "text": [
      "Collecting umap-learn\n",
      "  Downloading umap-learn-0.5.3.tar.gz (88 kB)\n",
      "\u001b[K     |████████████████████████████████| 88 kB 6.8 MB/s \n",
      "\u001b[?25hRequirement already satisfied: numpy>=1.17 in /usr/local/lib/python3.7/dist-packages (from umap-learn) (1.21.6)\n",
      "Requirement already satisfied: scikit-learn>=0.22 in /usr/local/lib/python3.7/dist-packages (from umap-learn) (1.0.2)\n",
      "Requirement already satisfied: scipy>=1.0 in /usr/local/lib/python3.7/dist-packages (from umap-learn) (1.4.1)\n",
      "Requirement already satisfied: numba>=0.49 in /usr/local/lib/python3.7/dist-packages (from umap-learn) (0.51.2)\n",
      "Collecting pynndescent>=0.5\n",
      "  Downloading pynndescent-0.5.6.tar.gz (1.1 MB)\n",
      "\u001b[K     |████████████████████████████████| 1.1 MB 63.8 MB/s \n",
      "\u001b[?25hRequirement already satisfied: tqdm in /usr/local/lib/python3.7/dist-packages (from umap-learn) (4.64.0)\n",
      "Requirement already satisfied: setuptools in /usr/local/lib/python3.7/dist-packages (from numba>=0.49->umap-learn) (57.4.0)\n",
      "Requirement already satisfied: llvmlite<0.35,>=0.34.0.dev0 in /usr/local/lib/python3.7/dist-packages (from numba>=0.49->umap-learn) (0.34.0)\n",
      "Requirement already satisfied: joblib>=0.11 in /usr/local/lib/python3.7/dist-packages (from pynndescent>=0.5->umap-learn) (1.1.0)\n",
      "Requirement already satisfied: threadpoolctl>=2.0.0 in /usr/local/lib/python3.7/dist-packages (from scikit-learn>=0.22->umap-learn) (3.1.0)\n",
      "Building wheels for collected packages: umap-learn, pynndescent\n",
      "  Building wheel for umap-learn (setup.py) ... \u001b[?25l\u001b[?25hdone\n",
      "  Created wheel for umap-learn: filename=umap_learn-0.5.3-py3-none-any.whl size=82829 sha256=94ff20d32ec40c5f0559d08f25512aa1b2bd2de721d475e8c6d5bfcd00962688\n",
      "  Stored in directory: /root/.cache/pip/wheels/b3/52/a5/1fd9e3e76a7ab34f134c07469cd6f16e27ef3a37aeff1fe821\n",
      "  Building wheel for pynndescent (setup.py) ... \u001b[?25l\u001b[?25hdone\n",
      "  Created wheel for pynndescent: filename=pynndescent-0.5.6-py3-none-any.whl size=53943 sha256=9999e2e72cde9b94bd4c23e699103943fc94e3a055631d4760348f4b58104a42\n",
      "  Stored in directory: /root/.cache/pip/wheels/03/f1/56/f80d72741e400345b5a5b50ec3d929aca581bf45e0225d5c50\n",
      "Successfully built umap-learn pynndescent\n",
      "Installing collected packages: pynndescent, umap-learn\n",
      "Successfully installed pynndescent-0.5.6 umap-learn-0.5.3\n"
     ]
    }
   ],
   "source": [
    "pip install umap-learn"
   ]
  },
  {
   "cell_type": "code",
   "execution_count": null,
   "metadata": {
    "id": "UH7kDidx254r"
   },
   "outputs": [],
   "source": [
    "from umap import UMAP"
   ]
  },
  {
   "cell_type": "markdown",
   "metadata": {
    "id": "--hNHvKh3HVn"
   },
   "source": [
    "##PC"
   ]
  },
  {
   "cell_type": "code",
   "execution_count": null,
   "metadata": {
    "colab": {
     "base_uri": "https://localhost:8080/"
    },
    "id": "luprRPa028Xw",
    "outputId": "5dc01786-eba3-43e3-9028-446381f36edd"
   },
   "outputs": [
    {
     "name": "stderr",
     "output_type": "stream",
     "text": [
      "/usr/local/lib/python3.7/dist-packages/numba/np/ufunc/parallel.py:363: NumbaWarning: The TBB threading layer requires TBB version 2019.5 or later i.e., TBB_INTERFACE_VERSION >= 11005. Found TBB_INTERFACE_VERSION = 9107. The TBB threading layer is disabled.\n",
      "  warnings.warn(problem)\n"
     ]
    }
   ],
   "source": [
    "umap_2d = UMAP(n_components=2, init='random', random_state=0)\n",
    "PC_proj = umap_2d.fit_transform(PC_count)"
   ]
  },
  {
   "cell_type": "code",
   "execution_count": null,
   "metadata": {
    "colab": {
     "base_uri": "https://localhost:8080/",
     "height": 352
    },
    "id": "hPwn60XK29Tn",
    "outputId": "64623bd0-3eed-4584-b05b-15e8dcea4ab3"
   },
   "outputs": [
    {
     "name": "stderr",
     "output_type": "stream",
     "text": [
      "/usr/local/lib/python3.7/dist-packages/seaborn/_decorators.py:43: FutureWarning: Pass the following variables as keyword args: x, y. From version 0.12, the only valid positional argument will be `data`, and passing other arguments without an explicit keyword will result in an error or misinterpretation.\n",
      "  FutureWarning\n"
     ]
    },
    {
     "data": {
      "text/plain": [
       "Text(0, 0.5, 'UMAP2')"
      ]
     },
     "execution_count": 89,
     "metadata": {},
     "output_type": "execute_result"
    },
    {
     "data": {
      "image/png": "[encoded data removed]",
      "text/plain": [
       "<Figure size 432x288 with 1 Axes>"
      ]
     },
     "metadata": {
      "needs_background": "light"
     },
     "output_type": "display_data"
    }
   ],
   "source": [
    "sns.scatterplot(PC_proj[:,0], PC_proj[:,1], hue=PC_label, legend='full')\n",
    "plt.xlabel('UMAP1')\n",
    "plt.ylabel('UMAP2')"
   ]
  },
  {
   "cell_type": "markdown",
   "metadata": {
    "id": "9A33xUx63JI0"
   },
   "source": [
    "##DU"
   ]
  },
  {
   "cell_type": "code",
   "execution_count": null,
   "metadata": {
    "id": "hLJPMlHc3KVF"
   },
   "outputs": [],
   "source": [
    "umap_2d = UMAP(n_components=2, init='random', random_state=0)\n",
    "DU_proj = umap_2d.fit_transform(DU_count)"
   ]
  },
  {
   "cell_type": "code",
   "execution_count": null,
   "metadata": {
    "colab": {
     "base_uri": "https://localhost:8080/",
     "height": 352
    },
    "id": "NATV2Mm93OAL",
    "outputId": "aca8ddf6-b7fb-42e9-ea96-28cbdac38fbe"
   },
   "outputs": [
    {
     "name": "stderr",
     "output_type": "stream",
     "text": [
      "/usr/local/lib/python3.7/dist-packages/seaborn/_decorators.py:43: FutureWarning: Pass the following variables as keyword args: x, y. From version 0.12, the only valid positional argument will be `data`, and passing other arguments without an explicit keyword will result in an error or misinterpretation.\n",
      "  FutureWarning\n"
     ]
    },
    {
     "data": {
      "text/plain": [
       "Text(0, 0.5, 'UMAP2')"
      ]
     },
     "execution_count": 90,
     "metadata": {},
     "output_type": "execute_result"
    },
    {
     "data": {
      "image/png": "[encoded data removed]",
      "text/plain": [
       "<Figure size 432x288 with 1 Axes>"
      ]
     },
     "metadata": {
      "needs_background": "light"
     },
     "output_type": "display_data"
    }
   ],
   "source": [
    "sns.scatterplot(DU_proj[:,0], DU_proj[:,1], hue=DU_label, legend='full')\n",
    "plt.xlabel('UMAP1')\n",
    "plt.ylabel('UMAP2')"
   ]
  }
 ],
 "metadata": {
  "colab": {
   "collapsed_sections": [
    "mMB7lPd9vXap",
    "X4tu0X6dwRA3",
    "IRLs0EPfwTZt"
   ],
   "name": "Clustering.ipynb",
   "provenance": [],
   "toc_visible": true
  },
  "kernelspec": {
   "display_name": "Python 3 (ipykernel)",
   "language": "python",
   "name": "python3"
  },
  "language_info": {
   "codemirror_mode": {
    "name": "ipython",
    "version": 3
   },
   "file_extension": ".py",
   "mimetype": "text/x-python",
   "name": "python",
   "nbconvert_exporter": "python",
   "pygments_lexer": "ipython3",
   "version": "3.8.1"
  }
 },
 "nbformat": 4,
 "nbformat_minor": 1
}
